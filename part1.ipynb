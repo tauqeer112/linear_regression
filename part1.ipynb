{
 "cells": [
  {
   "cell_type": "code",
   "execution_count": 1,
   "id": "cdac6901",
   "metadata": {},
   "outputs": [],
   "source": [
    "import numpy as np\n",
    "import pandas as pd"
   ]
  },
  {
   "cell_type": "code",
   "execution_count": 2,
   "id": "d81d9c49",
   "metadata": {},
   "outputs": [],
   "source": [
    "x1_1 = np.random.uniform(2,7,15)\n",
    "x1_2 = np.random.uniform(0,2,7)\n",
    "x1_3 = np.random.uniform(7,9,8)\n",
    "x1 = np.append(x1_1,x1_2)\n",
    "x1 = np.append(x1 , x1_3)\n",
    "\n",
    "x2_1 = np.random.uniform(4,6,15)\n",
    "x2_2 = np.random.uniform(1,3,7)\n",
    "x2_3 = np.random.uniform(6,8,8)\n",
    "x2 = np.append(x2_1,x2_2)\n",
    "x2 = np.append(x2 , x2_3)"
   ]
  },
  {
   "cell_type": "code",
   "execution_count": 3,
   "id": "247704c2",
   "metadata": {},
   "outputs": [],
   "source": [
    "df = pd.DataFrame()"
   ]
  },
  {
   "cell_type": "code",
   "execution_count": 4,
   "id": "2fea6454",
   "metadata": {},
   "outputs": [],
   "source": [
    "df['x1'], df['x2'] = x1 , x2"
   ]
  },
  {
   "cell_type": "code",
   "execution_count": 5,
   "id": "57b3ebcb",
   "metadata": {},
   "outputs": [],
   "source": [
    "y = np.append(np.ones((15,),dtype=int),np.zeros((15,),dtype=int))"
   ]
  },
  {
   "cell_type": "code",
   "execution_count": 6,
   "id": "e5cf2729",
   "metadata": {},
   "outputs": [],
   "source": [
    "df['y'] = y"
   ]
  },
  {
   "cell_type": "code",
   "execution_count": 7,
   "id": "fa544f57",
   "metadata": {},
   "outputs": [
    {
     "data": {
      "text/html": [
       "<div>\n",
       "<style scoped>\n",
       "    .dataframe tbody tr th:only-of-type {\n",
       "        vertical-align: middle;\n",
       "    }\n",
       "\n",
       "    .dataframe tbody tr th {\n",
       "        vertical-align: top;\n",
       "    }\n",
       "\n",
       "    .dataframe thead th {\n",
       "        text-align: right;\n",
       "    }\n",
       "</style>\n",
       "<table border=\"1\" class=\"dataframe\">\n",
       "  <thead>\n",
       "    <tr style=\"text-align: right;\">\n",
       "      <th></th>\n",
       "      <th>x1</th>\n",
       "      <th>x2</th>\n",
       "      <th>y</th>\n",
       "    </tr>\n",
       "  </thead>\n",
       "  <tbody>\n",
       "    <tr>\n",
       "      <th>0</th>\n",
       "      <td>2.258332</td>\n",
       "      <td>4.823375</td>\n",
       "      <td>1</td>\n",
       "    </tr>\n",
       "    <tr>\n",
       "      <th>1</th>\n",
       "      <td>4.022983</td>\n",
       "      <td>5.914613</td>\n",
       "      <td>1</td>\n",
       "    </tr>\n",
       "    <tr>\n",
       "      <th>2</th>\n",
       "      <td>3.973721</td>\n",
       "      <td>5.675407</td>\n",
       "      <td>1</td>\n",
       "    </tr>\n",
       "    <tr>\n",
       "      <th>3</th>\n",
       "      <td>2.835759</td>\n",
       "      <td>4.270871</td>\n",
       "      <td>1</td>\n",
       "    </tr>\n",
       "    <tr>\n",
       "      <th>4</th>\n",
       "      <td>2.922669</td>\n",
       "      <td>5.995264</td>\n",
       "      <td>1</td>\n",
       "    </tr>\n",
       "  </tbody>\n",
       "</table>\n",
       "</div>"
      ],
      "text/plain": [
       "         x1        x2  y\n",
       "0  2.258332  4.823375  1\n",
       "1  4.022983  5.914613  1\n",
       "2  3.973721  5.675407  1\n",
       "3  2.835759  4.270871  1\n",
       "4  2.922669  5.995264  1"
      ]
     },
     "execution_count": 7,
     "metadata": {},
     "output_type": "execute_result"
    }
   ],
   "source": [
    "df.head()"
   ]
  },
  {
   "cell_type": "code",
   "execution_count": 8,
   "id": "620987bf",
   "metadata": {},
   "outputs": [],
   "source": [
    "import matplotlib.pyplot as plt\n",
    "from matplotlib.patches import Rectangle,Circle\n",
    "%matplotlib inline\n",
    "import seaborn as sns"
   ]
  },
  {
   "cell_type": "code",
   "execution_count": 9,
   "id": "d513dcfc",
   "metadata": {},
   "outputs": [
    {
     "data": {
      "text/plain": [
       "<matplotlib.collections.PathCollection at 0x7fba2cbeebe0>"
      ]
     },
     "execution_count": 9,
     "metadata": {},
     "output_type": "execute_result"
    },
    {
     "data": {
      "image/png": "[encoded data removed]",
      "text/plain": [
       "<Figure size 432x288 with 1 Axes>"
      ]
     },
     "metadata": {
      "needs_background": "light"
     },
     "output_type": "display_data"
    }
   ],
   "source": [
    "color= ['red' if l == 0 else 'green' for l in df['y']]\n",
    "plt.scatter(df['x1'], df['x2'], color=color)"
   ]
  },
  {
   "cell_type": "code",
   "execution_count": 10,
   "id": "2c51000e",
   "metadata": {},
   "outputs": [
    {
     "data": {
      "text/plain": [
       "<function matplotlib.pyplot.show(close=None, block=None)>"
      ]
     },
     "execution_count": 10,
     "metadata": {},
     "output_type": "execute_result"
    },
    {
     "data": {
      "image/png": "[encoded data removed]",
      "text/plain": [
       "<Figure size 432x288 with 1 Axes>"
      ]
     },
     "metadata": {
      "needs_background": "light"
     },
     "output_type": "display_data"
    }
   ],
   "source": [
    "\n",
    "def find_S():\n",
    "    y_1 = df[df['y'] == 1]\n",
    "    min_x = min(y_1['x1'])\n",
    "    min_y = min(y_1['x2'])\n",
    "    max_x = max(y_1['x1'])\n",
    "    max_y = max(y_1['x2'])\n",
    "    return [min_x,min_y,max_x,max_y]\n",
    "\n",
    "min_x , min_y , max_x , max_y = find_S() \n",
    "\n",
    "plt.figure()\n",
    "currentAxis = plt.gca()\n",
    "plt.scatter(df['x1'], df['x2'], color=color)\n",
    "ax = plt.gca()\n",
    "ax.add_patch(Rectangle((min_x, min_y), max_x-min_x, max_y-min_y,\n",
    "                      alpha=1, fill=None))\n",
    "plt.show"
   ]
  },
  {
   "cell_type": "code",
   "execution_count": 11,
   "id": "1dcfc6ac",
   "metadata": {},
   "outputs": [
    {
     "data": {
      "text/plain": [
       "<function matplotlib.pyplot.show(close=None, block=None)>"
      ]
     },
     "execution_count": 11,
     "metadata": {},
     "output_type": "execute_result"
    },
    {
     "data": {
      "image/png": "[encoded data removed]",
      "text/plain": [
       "<Figure size 432x288 with 1 Axes>"
      ]
     },
     "metadata": {
      "needs_background": "light"
     },
     "output_type": "display_data"
    }
   ],
   "source": [
    "\n",
    "def find_G():\n",
    "    y_0 = df[df['y'] == 0]\n",
    "    x_lessThan_xmin = [x for x in y_0['x1'] if x <= min_x]\n",
    "    x_greaterThan_xmax = [x for x in y_0['x1'] if x >= max_x]\n",
    "    return max(x_lessThan_xmin), min(x_greaterThan_xmax)\n",
    "\n",
    "min_x_G, max_x_G = find_G()\n",
    "\n",
    "plt.figure()\n",
    "currentAxis = plt.gca()\n",
    "plt.scatter(df['x1'], df['x2'], color=color)\n",
    "ax = plt.gca()\n",
    "ax.add_patch(Rectangle((min_x_G, 0), max_x_G-min_x_G, 10,\n",
    "                      alpha=1, fill=None))\n",
    "plt.show"
   ]
  },
  {
   "cell_type": "code",
   "execution_count": 12,
   "id": "f9fd7527",
   "metadata": {},
   "outputs": [],
   "source": [
    "def findCircleParameter():\n",
    "    y_1 = df[df['y'] == 1]\n",
    "    center_x = np.mean(y_1['x1'])\n",
    "    center_y = np.mean(y_1['x2'])\n",
    "    center = (center_x,center_y)\n",
    "    center = np.array(center)\n",
    "    farthest_point = (y_1['x1'][0],y_1['x2'][0])\n",
    "    radius = 0\n",
    "    for x,y in zip(y_1['x1'],y_1['x2']):\n",
    "        point = np.array((x,y))\n",
    "        dist = np.linalg.norm(point-center)\n",
    "        if dist>radius:\n",
    "            radius = dist\n",
    "    return center , radius"
   ]
  },
  {
   "cell_type": "code",
   "execution_count": 13,
   "id": "b52e0da3",
   "metadata": {},
   "outputs": [
    {
     "data": {
      "text/plain": [
       "<function matplotlib.pyplot.show(close=None, block=None)>"
      ]
     },
     "execution_count": 13,
     "metadata": {},
     "output_type": "execute_result"
    },
    {
     "data": {
      "image/png": "[encoded data removed]",
      "text/plain": [
       "<Figure size 432x288 with 1 Axes>"
      ]
     },
     "metadata": {
      "needs_background": "light"
     },
     "output_type": "display_data"
    }
   ],
   "source": [
    "center, radius = findCircleParameter()\n",
    "\n",
    "plt.figure()\n",
    "currentAxis = plt.gca()\n",
    "plt.scatter(df['x1'], df['x2'], color=color)\n",
    "ax = plt.gca()\n",
    "ax.add_patch(Circle(center, radius=radius,\n",
    "                      alpha=1, fill=None))\n",
    "plt.show"
   ]
  },
  {
   "cell_type": "code",
   "execution_count": 14,
   "id": "0f39935c",
   "metadata": {},
   "outputs": [
    {
     "data": {
      "text/plain": [
       "<function matplotlib.pyplot.show(close=None, block=None)>"
      ]
     },
     "execution_count": 14,
     "metadata": {},
     "output_type": "execute_result"
    },
    {
     "data": {
      "image/png": "[encoded data removed]",
      "text/plain": [
       "<Figure size 432x288 with 1 Axes>"
      ]
     },
     "metadata": {
      "needs_background": "light"
     },
     "output_type": "display_data"
    }
   ],
   "source": [
    "def findCircleParameter():\n",
    "    y_1 = df[df['y'] == 1]\n",
    "    y_0 = df[df['y'] == 0]\n",
    "    center_x = np.mean(y_1['x1'])\n",
    "    center_y = np.mean(y_1['x2'])\n",
    "    center = (center_x,center_y)\n",
    "    center = np.array(center)\n",
    "    closest_point = (y_0['x1'][15],y_0['x2'][16])\n",
    "    radius = np.inf\n",
    "    for x,y in zip(y_0['x1'],y_0['x2']):\n",
    "        point = np.array((x,y))\n",
    "        dist = np.linalg.norm(point-center)\n",
    "        if dist<radius:\n",
    "            radius = dist\n",
    "    return center , radius\n",
    "\n",
    "center, radius = findCircleParameter()\n",
    "\n",
    "plt.figure()\n",
    "currentAxis = plt.gca()\n",
    "plt.scatter(df['x1'], df['x2'], color=color)\n",
    "ax = plt.gca()\n",
    "ax.add_patch(Circle(center, radius=radius,\n",
    "                      alpha=1, fill=None))\n",
    "plt.show"
   ]
  },
  {
   "cell_type": "code",
   "execution_count": null,
   "id": "c41e89c0",
   "metadata": {},
   "outputs": [],
   "source": []
  }
 ],
 "metadata": {
  "kernelspec": {
   "display_name": "Python 3 (ipykernel)",
   "language": "python",
   "name": "python3"
  },
  "language_info": {
   "codemirror_mode": {
    "name": "ipython",
    "version": 3
   },
   "file_extension": ".py",
   "mimetype": "text/x-python",
   "name": "python",
   "nbconvert_exporter": "python",
   "pygments_lexer": "ipython3",
   "version": "3.8.10"
  }
 },
 "nbformat": 4,
 "nbformat_minor": 5
}
