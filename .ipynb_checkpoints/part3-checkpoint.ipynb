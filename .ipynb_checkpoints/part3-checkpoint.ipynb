{
 "cells": [
  {
   "cell_type": "code",
   "execution_count": 3,
   "id": "f994291b",
   "metadata": {},
   "outputs": [],
   "source": [
    "import numpy as np\n",
    "import pandas as pd \n",
    "import matplotlib.pyplot as plt\n"
   ]
  },
  {
   "cell_type": "code",
   "execution_count": 4,
   "id": "b7988042",
   "metadata": {},
   "outputs": [],
   "source": [
    "df = pd.read_csv(\"insurance.csv\")"
   ]
  },
  {
   "cell_type": "code",
   "execution_count": 5,
   "id": "04668442",
   "metadata": {
    "scrolled": true
   },
   "outputs": [
    {
     "data": {
      "text/html": [
       "<div>\n",
       "<style scoped>\n",
       "    .dataframe tbody tr th:only-of-type {\n",
       "        vertical-align: middle;\n",
       "    }\n",
       "\n",
       "    .dataframe tbody tr th {\n",
       "        vertical-align: top;\n",
       "    }\n",
       "\n",
       "    .dataframe thead th {\n",
       "        text-align: right;\n",
       "    }\n",
       "</style>\n",
       "<table border=\"1\" class=\"dataframe\">\n",
       "  <thead>\n",
       "    <tr style=\"text-align: right;\">\n",
       "      <th></th>\n",
       "      <th>age</th>\n",
       "      <th>sex</th>\n",
       "      <th>bmi</th>\n",
       "      <th>children</th>\n",
       "      <th>smoker</th>\n",
       "      <th>region</th>\n",
       "      <th>charges</th>\n",
       "    </tr>\n",
       "  </thead>\n",
       "  <tbody>\n",
       "    <tr>\n",
       "      <th>0</th>\n",
       "      <td>19</td>\n",
       "      <td>female</td>\n",
       "      <td>27.900</td>\n",
       "      <td>0</td>\n",
       "      <td>yes</td>\n",
       "      <td>southwest</td>\n",
       "      <td>16884.92400</td>\n",
       "    </tr>\n",
       "    <tr>\n",
       "      <th>1</th>\n",
       "      <td>18</td>\n",
       "      <td>male</td>\n",
       "      <td>33.770</td>\n",
       "      <td>1</td>\n",
       "      <td>no</td>\n",
       "      <td>southeast</td>\n",
       "      <td>1725.55230</td>\n",
       "    </tr>\n",
       "    <tr>\n",
       "      <th>2</th>\n",
       "      <td>28</td>\n",
       "      <td>male</td>\n",
       "      <td>33.000</td>\n",
       "      <td>3</td>\n",
       "      <td>no</td>\n",
       "      <td>southeast</td>\n",
       "      <td>4449.46200</td>\n",
       "    </tr>\n",
       "    <tr>\n",
       "      <th>3</th>\n",
       "      <td>33</td>\n",
       "      <td>male</td>\n",
       "      <td>22.705</td>\n",
       "      <td>0</td>\n",
       "      <td>no</td>\n",
       "      <td>northwest</td>\n",
       "      <td>21984.47061</td>\n",
       "    </tr>\n",
       "    <tr>\n",
       "      <th>4</th>\n",
       "      <td>32</td>\n",
       "      <td>male</td>\n",
       "      <td>28.880</td>\n",
       "      <td>0</td>\n",
       "      <td>no</td>\n",
       "      <td>northwest</td>\n",
       "      <td>3866.85520</td>\n",
       "    </tr>\n",
       "  </tbody>\n",
       "</table>\n",
       "</div>"
      ],
      "text/plain": [
       "   age     sex     bmi  children smoker     region      charges\n",
       "0   19  female  27.900         0    yes  southwest  16884.92400\n",
       "1   18    male  33.770         1     no  southeast   1725.55230\n",
       "2   28    male  33.000         3     no  southeast   4449.46200\n",
       "3   33    male  22.705         0     no  northwest  21984.47061\n",
       "4   32    male  28.880         0     no  northwest   3866.85520"
      ]
     },
     "execution_count": 5,
     "metadata": {},
     "output_type": "execute_result"
    }
   ],
   "source": [
    "df.head()"
   ]
  },
  {
   "cell_type": "code",
   "execution_count": 62,
   "id": "699dea7d",
   "metadata": {},
   "outputs": [
    {
     "data": {
      "text/plain": [
       "0.2526158445440957"
      ]
     },
     "execution_count": 62,
     "metadata": {},
     "output_type": "execute_result"
    }
   ],
   "source": []
  },
  {
   "cell_type": "code",
   "execution_count": 6,
   "id": "2aad92be",
   "metadata": {},
   "outputs": [],
   "source": [
    "categorical_features = [\"sex\",'smoker','region']"
   ]
  },
  {
   "cell_type": "code",
   "execution_count": 7,
   "id": "614bf737",
   "metadata": {},
   "outputs": [],
   "source": [
    "df_cat_columns = pd.get_dummies(df[categorical_features])"
   ]
  },
  {
   "cell_type": "code",
   "execution_count": 8,
   "id": "5cb537f9",
   "metadata": {},
   "outputs": [],
   "source": [
    "df =  df.drop(categorical_features , axis=1)"
   ]
  },
  {
   "cell_type": "code",
   "execution_count": 9,
   "id": "1b89e46c",
   "metadata": {},
   "outputs": [],
   "source": [
    "df = pd.concat([df,df_cat_columns],axis=1)"
   ]
  },
  {
   "cell_type": "code",
   "execution_count": 10,
   "id": "9e056008",
   "metadata": {},
   "outputs": [
    {
     "data": {
      "text/html": [
       "<div>\n",
       "<style scoped>\n",
       "    .dataframe tbody tr th:only-of-type {\n",
       "        vertical-align: middle;\n",
       "    }\n",
       "\n",
       "    .dataframe tbody tr th {\n",
       "        vertical-align: top;\n",
       "    }\n",
       "\n",
       "    .dataframe thead th {\n",
       "        text-align: right;\n",
       "    }\n",
       "</style>\n",
       "<table border=\"1\" class=\"dataframe\">\n",
       "  <thead>\n",
       "    <tr style=\"text-align: right;\">\n",
       "      <th></th>\n",
       "      <th>age</th>\n",
       "      <th>bmi</th>\n",
       "      <th>children</th>\n",
       "      <th>charges</th>\n",
       "      <th>sex_female</th>\n",
       "      <th>sex_male</th>\n",
       "      <th>smoker_no</th>\n",
       "      <th>smoker_yes</th>\n",
       "      <th>region_northeast</th>\n",
       "      <th>region_northwest</th>\n",
       "      <th>region_southeast</th>\n",
       "      <th>region_southwest</th>\n",
       "    </tr>\n",
       "  </thead>\n",
       "  <tbody>\n",
       "    <tr>\n",
       "      <th>0</th>\n",
       "      <td>19</td>\n",
       "      <td>27.900</td>\n",
       "      <td>0</td>\n",
       "      <td>16884.92400</td>\n",
       "      <td>1</td>\n",
       "      <td>0</td>\n",
       "      <td>0</td>\n",
       "      <td>1</td>\n",
       "      <td>0</td>\n",
       "      <td>0</td>\n",
       "      <td>0</td>\n",
       "      <td>1</td>\n",
       "    </tr>\n",
       "    <tr>\n",
       "      <th>1</th>\n",
       "      <td>18</td>\n",
       "      <td>33.770</td>\n",
       "      <td>1</td>\n",
       "      <td>1725.55230</td>\n",
       "      <td>0</td>\n",
       "      <td>1</td>\n",
       "      <td>1</td>\n",
       "      <td>0</td>\n",
       "      <td>0</td>\n",
       "      <td>0</td>\n",
       "      <td>1</td>\n",
       "      <td>0</td>\n",
       "    </tr>\n",
       "    <tr>\n",
       "      <th>2</th>\n",
       "      <td>28</td>\n",
       "      <td>33.000</td>\n",
       "      <td>3</td>\n",
       "      <td>4449.46200</td>\n",
       "      <td>0</td>\n",
       "      <td>1</td>\n",
       "      <td>1</td>\n",
       "      <td>0</td>\n",
       "      <td>0</td>\n",
       "      <td>0</td>\n",
       "      <td>1</td>\n",
       "      <td>0</td>\n",
       "    </tr>\n",
       "    <tr>\n",
       "      <th>3</th>\n",
       "      <td>33</td>\n",
       "      <td>22.705</td>\n",
       "      <td>0</td>\n",
       "      <td>21984.47061</td>\n",
       "      <td>0</td>\n",
       "      <td>1</td>\n",
       "      <td>1</td>\n",
       "      <td>0</td>\n",
       "      <td>0</td>\n",
       "      <td>1</td>\n",
       "      <td>0</td>\n",
       "      <td>0</td>\n",
       "    </tr>\n",
       "    <tr>\n",
       "      <th>4</th>\n",
       "      <td>32</td>\n",
       "      <td>28.880</td>\n",
       "      <td>0</td>\n",
       "      <td>3866.85520</td>\n",
       "      <td>0</td>\n",
       "      <td>1</td>\n",
       "      <td>1</td>\n",
       "      <td>0</td>\n",
       "      <td>0</td>\n",
       "      <td>1</td>\n",
       "      <td>0</td>\n",
       "      <td>0</td>\n",
       "    </tr>\n",
       "  </tbody>\n",
       "</table>\n",
       "</div>"
      ],
      "text/plain": [
       "   age     bmi  children      charges  sex_female  sex_male  smoker_no  \\\n",
       "0   19  27.900         0  16884.92400           1         0          0   \n",
       "1   18  33.770         1   1725.55230           0         1          1   \n",
       "2   28  33.000         3   4449.46200           0         1          1   \n",
       "3   33  22.705         0  21984.47061           0         1          1   \n",
       "4   32  28.880         0   3866.85520           0         1          1   \n",
       "\n",
       "   smoker_yes  region_northeast  region_northwest  region_southeast  \\\n",
       "0           1                 0                 0                 0   \n",
       "1           0                 0                 0                 1   \n",
       "2           0                 0                 0                 1   \n",
       "3           0                 0                 1                 0   \n",
       "4           0                 0                 1                 0   \n",
       "\n",
       "   region_southwest  \n",
       "0                 1  \n",
       "1                 0  \n",
       "2                 0  \n",
       "3                 0  \n",
       "4                 0  "
      ]
     },
     "execution_count": 10,
     "metadata": {},
     "output_type": "execute_result"
    }
   ],
   "source": [
    "df.head()"
   ]
  },
  {
   "cell_type": "code",
   "execution_count": 11,
   "id": "1d2a6bff",
   "metadata": {},
   "outputs": [],
   "source": [
    "y = df['charges']"
   ]
  },
  {
   "cell_type": "code",
   "execution_count": 12,
   "id": "e2373548",
   "metadata": {},
   "outputs": [],
   "source": [
    "X = df.drop(['charges'], axis=1)"
   ]
  },
  {
   "cell_type": "code",
   "execution_count": 63,
   "id": "0b9e0a6e",
   "metadata": {},
   "outputs": [],
   "source": [
    "X.iloc[:,:] = (X.iloc[:, : ] - np.mean(X.iloc[:, :], axis=0)) / np.std(X.iloc[:, :], axis=0)"
   ]
  },
  {
   "cell_type": "code",
   "execution_count": 66,
   "id": "785405fc",
   "metadata": {},
   "outputs": [
    {
     "name": "stdout",
     "output_type": "stream",
     "text": [
      "age 0.0\n",
      "1.0\n",
      "bmi -0.0\n",
      "1.0\n",
      "children 0.0\n",
      "1.0\n",
      "sex_female 0.0\n",
      "1.0\n",
      "sex_male -0.0\n",
      "1.0\n",
      "smoker_no 0.0\n",
      "1.0\n",
      "smoker_yes -0.0\n",
      "1.0\n",
      "region_northeast -0.0\n",
      "1.0\n",
      "region_northwest -0.0\n",
      "1.0\n",
      "region_southeast 0.0\n",
      "1.0\n",
      "region_southwest -0.0\n",
      "1.0\n"
     ]
    }
   ],
   "source": [
    "for col in X.columns:\n",
    "    if col != 'bias':\n",
    "        print(col, end=\" \")\n",
    "        print(round(np.mean(X[col]),3))\n",
    "        print(round(np.std(X[col]),3))"
   ]
  },
  {
   "cell_type": "code",
   "execution_count": 14,
   "id": "001301a6",
   "metadata": {},
   "outputs": [],
   "source": [
    "def predict(X, weights, b):\n",
    "    return X @ weights + b\n",
    "\n",
    "def MSE(weights, X, y,bias):\n",
    "    return 1/2 * np.mean(np.square(predict(X, weights , bias) - y)) \n",
    "\n",
    "# X_test = X.iloc[:3,:]\n",
    "# weight_test = np.ones(X.shape[1])\n",
    "# print(predict(X_test,weight_test,3))\n",
    "# print(y[:3])\n",
    "# print(MSE(weight_test,X_test,y[:3],2))\n",
    "\n"
   ]
  },
  {
   "cell_type": "code",
   "execution_count": 18,
   "id": "79d45020",
   "metadata": {},
   "outputs": [
    {
     "name": "stdout",
     "output_type": "stream",
     "text": [
      "(11,) (1338, 11)\n"
     ]
    }
   ],
   "source": [
    "weight_test = np.ones(X.shape[1])\n",
    "print(weight_test.shape,X.shape)"
   ]
  },
  {
   "cell_type": "code",
   "execution_count": 19,
   "id": "99d6a30a",
   "metadata": {},
   "outputs": [
    {
     "name": "stdout",
     "output_type": "stream",
     "text": [
      "4431.941968491272\n"
     ]
    }
   ],
   "source": [
    "print(np.sum(np.square(X @ weight_test)))"
   ]
  },
  {
   "cell_type": "code",
   "execution_count": 15,
   "id": "757bb8c2",
   "metadata": {},
   "outputs": [],
   "source": [
    "def Linear_Ridge_Regression(X,y,alpha = 0.0001,iteration=500,showloss=False, reg_param = 1e-6):  \n",
    "    m , n = X.shape\n",
    "    bias=1\n",
    "    weights = np.ones(X.shape[1])\n",
    "    losses = []\n",
    "    for i in range(iteration):\n",
    "        y_pred = predict(X,weights,bias)\n",
    "        delta_w = (-(2*(X.T).dot(y - y_pred)) + (2*reg_param*weights))/X.shape[0]\n",
    "        delta_b = -2*np.sum(y - y_pred)/X.shape[0]\n",
    "        weights -= alpha * delta_w\n",
    "        bias -= alpha * delta_b\n",
    "        if showloss == True:\n",
    "            if i % 100 == 10:\n",
    "                print(MSE(weights,X,y,bias),end = \"->\")\n",
    "        losses.append(MSE(weights, X, y,bias))\n",
    "    return X,weights,losses,bias"
   ]
  },
  {
   "cell_type": "code",
   "execution_count": 110,
   "id": "7b586059",
   "metadata": {},
   "outputs": [],
   "source": [
    "def Linear_Ridge_Regression_kfold(X,y,alpha = 0.0001,iteration=500,showloss=False, reg_param = 1e-6):  \n",
    "    weights_vector = []\n",
    "    bias_vector = []\n",
    "    train_losses = []\n",
    "    validation_losses = []\n",
    "    for j in range(10):\n",
    "        \n",
    "        X_train , X_val ,y_train ,y_val = kFold(X,y,j)\n",
    "        X_train = X_train.to_numpy()\n",
    "        X_val = X_val.to_numpy()\n",
    "        y_train =  y_train.to_numpy()\n",
    "        y_val = y_val.to_numpy()\n",
    "#         print(X_train.shape,X_val.shape,y_train.shape,y_val.shape)\n",
    "        bias=1\n",
    "        weights = np.ones(X_train.shape[1])\n",
    "        m , n = X_train.shape\n",
    "#         print(\" \")\n",
    "        for i in range(iteration):\n",
    "            y_pred = predict(X_train,weights,bias)\n",
    "            delta_w = (-(2*(X_train.T).dot(y_train - y_pred)) + (2*reg_param*weights))/X_train.shape[0]\n",
    "            delta_b = -2*np.sum(y_train - y_pred)/X_train.shape[0]\n",
    "            weights -= alpha * delta_w\n",
    "            bias -= alpha * delta_b\n",
    "            if showloss == True:\n",
    "                if i % 100 == 1:\n",
    "                    print(MSE(weights,X_train,y_train,bias),end = \"->\")\n",
    "        Tloss = MSE(weights,X_train,y_train,bias)\n",
    "        Vloss = MSE(weights,X_val,y_val,bias)\n",
    "#         print(\"Training losses =  \", Tloss ,\" \",j ,\"set as Validation , Validation loss =\", Vloss)\n",
    "        train_losses.append(Tloss)\n",
    "        validation_losses.append(Vloss)\n",
    "        weights_vector.append(weights)\n",
    "#         print(\"Weignts = \", weights)\n",
    "        bias_vector.append(bias)\n",
    "    return weights_vector,bias_vector,train_losses,validation_losses"
   ]
  },
  {
   "cell_type": "code",
   "execution_count": 93,
   "id": "f26dd4f3",
   "metadata": {},
   "outputs": [
    {
     "name": "stdout",
     "output_type": "stream",
     "text": [
      " \n",
      "Training losses =   17396241.85416097   0 set as Validation , Validation loss = 18155425.13729312\n",
      "Weignts =  [ 3696.63877531  1988.99516549   545.6435604    135.45750779\n",
      "  -133.45750779 -4765.36642435  4767.36642435   385.73105975\n",
      "    84.31122079  -163.62707469  -295.80127207]\n",
      " \n",
      "Training losses =   17573738.54971562   1 set as Validation , Validation loss = 16501209.980330167\n",
      "Weignts =  [ 3672.73878193  2160.51793317   453.45589808    99.64219447\n",
      "   -97.64219447 -4851.39046742  4853.39046742   226.98548343\n",
      "   194.7379876   -252.48385996  -155.4394371 ]\n",
      " \n",
      "Training losses =   17053587.49918849   2 set as Validation , Validation loss = 21072107.109973565\n",
      "Weignts =  [ 3672.11046339  2013.99574964   498.37414036    68.58176908\n",
      "   -66.58176908 -4820.45903457  4822.45903457   399.76882054\n",
      "   101.93868567  -232.78821708  -255.68130866]\n",
      " \n",
      "Training losses =   17250936.87373062   3 set as Validation , Validation loss = 19369199.36120719\n",
      "Weignts =  [ 3742.93874301  2131.862477     517.95079419   101.07953023\n",
      "   -99.07953023 -4812.95119548  4814.95119548   422.18117438\n",
      "   149.85065951  -259.88474777  -297.86332822]\n",
      " \n",
      "Training losses =   17548800.928161792   4 set as Validation , Validation loss = 16746996.643905912\n",
      "Weignts =  [ 3770.5376505   2144.62525197   612.77715527    41.94176992\n",
      "   -39.94176992 -4859.25364399  4861.25364399   287.38312854\n",
      "   183.65983079  -272.77285842  -183.64121934]\n",
      " \n",
      "Training losses =   16495316.294316301   5 set as Validation , Validation loss = 26405184.249603394\n",
      "Weignts =  [ 3771.04957984  1970.59339865   543.37548748    12.69649583\n",
      "   -10.69649583 -4730.19976617  4732.19976617   327.19910071\n",
      "    88.46169655  -273.51227687  -127.45005652]\n",
      " \n",
      "Training losses =   17790012.37373152   6 set as Validation , Validation loss = 14465902.919967514\n",
      "Weignts =  [ 3723.09247673  2097.30185918   430.87351812    53.45224793\n",
      "   -51.45224793 -4747.83339507  4749.83339507   283.22388163\n",
      "   163.20921464  -213.71814445  -220.31847376]\n",
      " \n",
      "Training losses =   18025786.3548607   7 set as Validation , Validation loss = 12478311.36189957\n",
      "Weignts =  [ 3708.52600016  2077.88575239   371.95749077    79.64197599\n",
      "   -77.64197599 -4848.36713031  4850.36713031   328.11946692\n",
      "   169.48535459  -227.8826153   -256.74431993]\n",
      " \n",
      "Training losses =   17698065.341661755   8 set as Validation , Validation loss = 15333943.85391958\n",
      "Weignts =  [ 3.77541805e+03  2.01571115e+03  4.86022665e+02  1.67376512e+00\n",
      "  3.26234881e-01 -4.77451304e+03  4.77651304e+03  3.60204744e+02\n",
      "  1.20703196e+02 -2.57867195e+02 -2.08897992e+02]\n",
      " \n",
      "Training losses =   17403870.735224705   9 set as Validation , Validation loss = 18094583.8354498\n",
      "Weignts =  [ 3600.44731475  2108.82984358   486.34085188   134.92780025\n",
      "  -132.92780025 -4860.0098032   4862.0098032    238.75109882\n",
      "   125.3142271   -206.36930333  -145.62336622]\n"
     ]
    }
   ],
   "source": [
    "X_train = X.iloc[:1000,:]\n",
    "y_train = y[:1000]\n",
    "weights_vector,bias_vector,train_losses,validation_losses = Linear_Ridge_Regression_kfold(X_train,y_train,alpha = 0.01,iteration=5000,showloss=False, reg_param = 0)"
   ]
  },
  {
   "cell_type": "code",
   "execution_count": 97,
   "id": "637c4dbf",
   "metadata": {},
   "outputs": [
    {
     "data": {
      "text/plain": [
       "<matplotlib.collections.PathCollection at 0x7f1126b9c190>"
      ]
     },
     "execution_count": 97,
     "metadata": {},
     "output_type": "execute_result"
    },
    {
     "data": {
      "image/png": "[encoded data removed]",
      "text/plain": [
       "<Figure size 1440x360 with 1 Axes>"
      ]
     },
     "metadata": {
      "needs_background": "light"
     },
     "output_type": "display_data"
    }
   ],
   "source": [
    "fig = plt.figure(figsize=(20, 5))\n",
    "plt.scatter([i for i in range(10)], train_losses)\n",
    "plt.scatter([i for i in range(10)], validation_losses)"
   ]
  },
  {
   "cell_type": "code",
   "execution_count": 137,
   "id": "9fa4eec9",
   "metadata": {},
   "outputs": [
    {
     "name": "stdout",
     "output_type": "stream",
     "text": [
      "[ 3696.63877531  1988.99516549   545.6435604    135.45750779\n",
      "  -133.45750779 -4765.36642435  4767.36642435   385.73105975\n",
      "    84.31122079  -163.62707469  -295.80127207]\n",
      "[ 3696.25793714  1988.7832798    545.60228769   135.4239829\n",
      "  -133.44608214 -4765.08869829  4767.06659904   385.6867429\n",
      "    84.25376105  -163.56372281  -295.80988774]\n",
      "[ 3696.63496654  1988.9930464    545.64314765   135.45717191\n",
      "  -133.45739412 -4765.36364752  4767.36342531   385.73061595\n",
      "    84.31064551  -163.62644168  -295.80135884]\n",
      "[ 3696.63839443  1988.99495358   545.64351913   135.4574742\n",
      "  -133.45749642 -4765.36614666  4767.36612444   385.73101537\n",
      "    84.31116326  -163.62701139  -295.80128075]\n",
      "[ 3677.69173998  1978.45909172   543.58616122   133.91275937\n",
      "  -132.76528795 -4751.39776731  4752.54523873   383.64877786\n",
      "    81.58251829  -160.35863773  -296.10491129]\n",
      "[ 3351.10971934  1798.46750356   506.84155706   113.97527439\n",
      "  -113.97524487 -4494.44495798  4494.4449875    354.52598135\n",
      "    43.7388448   -100.40674567  -293.69865036]\n",
      "[ 1817.37317405   978.63054092   303.56713769    25.86511443\n",
      "   -25.86511443 -2977.02192792  2977.02192792   215.60208243\n",
      "   -63.34692472    88.09129446  -243.44428587]\n",
      "[ 324.96163403  180.29915727   59.49713097  -12.89189029   12.89189029\n",
      " -684.02761094  684.02761094   46.9203457   -31.34832158   53.07571828\n",
      "  -70.60108951]\n"
     ]
    }
   ],
   "source": [
    "reg_list = [0 , 0.1, 0.001,  0.0001, 5 , 100 ,1000,10000]\n",
    "trainLoss_reg = []\n",
    "validationLoss_reg = []\n",
    "for reg in reg_list:\n",
    "    weights_vector,bias_vector,train_losses,validation_losses = Linear_Ridge_Regression_kfold(X_train,\n",
    "                                                                                              y_train,\n",
    "                                                                                              alpha = 0.01,\n",
    "                                                                                              iteration=5000,\n",
    "                                                                                              showloss=False, \n",
    "                                                                                              reg_param = reg)\n",
    "    trainLoss_reg.append(np.mean(train_losses))\n",
    "    validationLoss_reg.append(np.mean(validation_losses))\n",
    "    print(weights_vector[0])\n",
    "    \n"
   ]
  },
  {
   "cell_type": "code",
   "execution_count": 139,
   "id": "8adcde44",
   "metadata": {},
   "outputs": [
    {
     "data": {
      "text/plain": [
       "([<matplotlib.axis.XTick at 0x7f1124c6f220>,\n",
       "  <matplotlib.axis.XTick at 0x7f1124c6fe80>,\n",
       "  <matplotlib.axis.XTick at 0x7f1124c35490>,\n",
       "  <matplotlib.axis.XTick at 0x7f1125c6cbe0>,\n",
       "  <matplotlib.axis.XTick at 0x7f1125c77eb0>,\n",
       "  <matplotlib.axis.XTick at 0x7f1125c6c5b0>,\n",
       "  <matplotlib.axis.XTick at 0x7f1125c6e580>,\n",
       "  <matplotlib.axis.XTick at 0x7f1124c70100>],\n",
       " [Text(0, 0, '0'),\n",
       "  Text(1, 0, '0.1'),\n",
       "  Text(2, 0, '0.001'),\n",
       "  Text(3, 0, '0.0001'),\n",
       "  Text(4, 0, '5'),\n",
       "  Text(5, 0, '100'),\n",
       "  Text(6, 0, '1000'),\n",
       "  Text(7, 0, '10000')])"
      ]
     },
     "execution_count": 139,
     "metadata": {},
     "output_type": "execute_result"
    },
    {
     "data": {
      "image/png": "[encoded data removed]",
      "text/plain": [
       "<Figure size 1440x360 with 1 Axes>"
      ]
     },
     "metadata": {
      "needs_background": "light"
     },
     "output_type": "display_data"
    }
   ],
   "source": [
    "fig = plt.figure(figsize=(20, 5))\n",
    "plt.scatter(np.arange(len(reg_list)), trainLoss_reg)\n",
    "plt.scatter(np.arange(len(reg_list)), validationLoss_reg)\n",
    "plt.plot(np.arange(len(reg_list)), trainLoss_reg)\n",
    "plt.plot(np.arange(len(reg_list)), validationLoss_reg)\n",
    "plt.xticks(np.arange(len(reg_list)),labels=reg_list)\n",
    "\n"
   ]
  },
  {
   "cell_type": "code",
   "execution_count": 71,
   "id": "d65c2e92",
   "metadata": {},
   "outputs": [
    {
     "name": "stdout",
     "output_type": "stream",
     "text": [
      "          age       bmi  children  sex_female  sex_male  smoker_no  \\\n",
      "100  0.127662  0.153645 -0.908614    1.010519 -1.010519   0.507463   \n",
      "\n",
      "     smoker_yes  region_northeast  region_northwest  region_southeast  \\\n",
      "100   -0.507463         -0.565267         -0.566418         -0.611324   \n",
      "\n",
      "     region_southwest  \n",
      "100          1.765481  \n"
     ]
    }
   ],
   "source": [
    "X_train = X.iloc[:1000,:]\n",
    "y_train = y[:1000]\n",
    "for i in range(10):\n",
    "     if  i == 0:\n",
    "         X_tr , X_v ,y_tr ,y_v = kFold(X_train,y_train,i)\n",
    "         print(X_tr.iloc[:1,:])\n",
    "         \n",
    "            "
   ]
  },
  {
   "cell_type": "code",
   "execution_count": 125,
   "id": "558a6d0c",
   "metadata": {},
   "outputs": [
    {
     "name": "stdout",
     "output_type": "stream",
     "text": [
      "1000\n"
     ]
    }
   ],
   "source": [
    "X_train = X.iloc[:1000,:]\n",
    "y_train = y[:1000]\n",
    "X_test =  X.iloc[1001:,:]\n",
    "y_test = y[1001:]\n",
    "# print(np.sqrt(MSE(weights,X,y,bias)))\n",
    "print(X_train.shape[0])"
   ]
  },
  {
   "cell_type": "code",
   "execution_count": 126,
   "id": "4d6114f8",
   "metadata": {},
   "outputs": [
    {
     "ename": "ValueError",
     "evalue": "Dot product shape mismatch, (900, 12) vs (11,)",
     "output_type": "error",
     "traceback": [
      "\u001b[0;31m---------------------------------------------------------------------------\u001b[0m",
      "\u001b[0;31mValueError\u001b[0m                                Traceback (most recent call last)",
      "\u001b[0;32m/tmp/ipykernel_11167/2789590901.py\u001b[0m in \u001b[0;36m<module>\u001b[0;34m\u001b[0m\n\u001b[0;32m----> 1\u001b[0;31m \u001b[0mX_feature\u001b[0m\u001b[0;34m,\u001b[0m \u001b[0mweights\u001b[0m\u001b[0;34m,\u001b[0m \u001b[0mlosses\u001b[0m \u001b[0;34m,\u001b[0m\u001b[0mbias\u001b[0m\u001b[0;34m=\u001b[0m \u001b[0mLinear_Ridge_Regression\u001b[0m\u001b[0;34m(\u001b[0m\u001b[0mX_train\u001b[0m\u001b[0;34m,\u001b[0m\u001b[0my_train\u001b[0m\u001b[0;34m,\u001b[0m\u001b[0malpha\u001b[0m\u001b[0;34m=\u001b[0m\u001b[0;36m0.0001\u001b[0m\u001b[0;34m,\u001b[0m\u001b[0mreg_param\u001b[0m\u001b[0;34m=\u001b[0m\u001b[0;36m1e-2\u001b[0m\u001b[0;34m,\u001b[0m\u001b[0miteration\u001b[0m\u001b[0;34m=\u001b[0m\u001b[0;36m100000\u001b[0m\u001b[0;34m,\u001b[0m\u001b[0mshowloss\u001b[0m\u001b[0;34m=\u001b[0m\u001b[0;32mTrue\u001b[0m\u001b[0;34m)\u001b[0m\u001b[0;34m\u001b[0m\u001b[0;34m\u001b[0m\u001b[0m\n\u001b[0m\u001b[1;32m      2\u001b[0m \u001b[0mplt\u001b[0m\u001b[0;34m.\u001b[0m\u001b[0mplot\u001b[0m\u001b[0;34m(\u001b[0m\u001b[0;34m[\u001b[0m\u001b[0mi\u001b[0m \u001b[0;32mfor\u001b[0m \u001b[0mi\u001b[0m \u001b[0;32min\u001b[0m \u001b[0mrange\u001b[0m\u001b[0;34m(\u001b[0m\u001b[0;36m1\u001b[0m\u001b[0;34m,\u001b[0m\u001b[0;36m100001\u001b[0m\u001b[0;34m)\u001b[0m\u001b[0;34m]\u001b[0m\u001b[0;34m,\u001b[0m \u001b[0mlosses\u001b[0m\u001b[0;34m)\u001b[0m\u001b[0;34m\u001b[0m\u001b[0;34m\u001b[0m\u001b[0m\n\u001b[1;32m      3\u001b[0m \u001b[0mprint\u001b[0m\u001b[0;34m(\u001b[0m\u001b[0;34m)\u001b[0m\u001b[0;34m\u001b[0m\u001b[0;34m\u001b[0m\u001b[0m\n\u001b[1;32m      4\u001b[0m \u001b[0mprint\u001b[0m\u001b[0;34m(\u001b[0m\u001b[0mweights\u001b[0m\u001b[0;34m)\u001b[0m\u001b[0;34m\u001b[0m\u001b[0;34m\u001b[0m\u001b[0m\n",
      "\u001b[0;32m/tmp/ipykernel_11167/3107849983.py\u001b[0m in \u001b[0;36mLinear_Ridge_Regression\u001b[0;34m(X, y, alpha, iteration, showloss, reg_param)\u001b[0m\n\u001b[1;32m     12\u001b[0m         \u001b[0mm\u001b[0m \u001b[0;34m,\u001b[0m \u001b[0mn\u001b[0m \u001b[0;34m=\u001b[0m \u001b[0mX_train\u001b[0m\u001b[0;34m.\u001b[0m\u001b[0mshape\u001b[0m\u001b[0;34m\u001b[0m\u001b[0;34m\u001b[0m\u001b[0m\n\u001b[1;32m     13\u001b[0m         \u001b[0;32mfor\u001b[0m \u001b[0mi\u001b[0m \u001b[0;32min\u001b[0m \u001b[0mrange\u001b[0m\u001b[0;34m(\u001b[0m\u001b[0miteration\u001b[0m\u001b[0;34m)\u001b[0m\u001b[0;34m:\u001b[0m\u001b[0;34m\u001b[0m\u001b[0;34m\u001b[0m\u001b[0m\n\u001b[0;32m---> 14\u001b[0;31m             \u001b[0my_pred\u001b[0m \u001b[0;34m=\u001b[0m \u001b[0mpredict\u001b[0m\u001b[0;34m(\u001b[0m\u001b[0mX_train\u001b[0m\u001b[0;34m,\u001b[0m\u001b[0mweights\u001b[0m\u001b[0;34m,\u001b[0m\u001b[0mbias\u001b[0m\u001b[0;34m)\u001b[0m\u001b[0;34m\u001b[0m\u001b[0;34m\u001b[0m\u001b[0m\n\u001b[0m\u001b[1;32m     15\u001b[0m             \u001b[0mdelta_w\u001b[0m \u001b[0;34m=\u001b[0m \u001b[0;34m(\u001b[0m\u001b[0;34m-\u001b[0m\u001b[0;34m(\u001b[0m\u001b[0;36m2\u001b[0m\u001b[0;34m*\u001b[0m\u001b[0;34m(\u001b[0m\u001b[0mX_train\u001b[0m\u001b[0;34m.\u001b[0m\u001b[0mT\u001b[0m\u001b[0;34m)\u001b[0m\u001b[0;34m.\u001b[0m\u001b[0mdot\u001b[0m\u001b[0;34m(\u001b[0m\u001b[0my_train\u001b[0m \u001b[0;34m-\u001b[0m \u001b[0my_pred\u001b[0m\u001b[0;34m)\u001b[0m\u001b[0;34m)\u001b[0m \u001b[0;34m+\u001b[0m \u001b[0;34m(\u001b[0m\u001b[0;36m2\u001b[0m\u001b[0;34m*\u001b[0m\u001b[0mreg_param\u001b[0m\u001b[0;34m*\u001b[0m\u001b[0mweights\u001b[0m\u001b[0;34m)\u001b[0m\u001b[0;34m)\u001b[0m\u001b[0;34m/\u001b[0m\u001b[0mX_train\u001b[0m\u001b[0;34m.\u001b[0m\u001b[0mshape\u001b[0m\u001b[0;34m[\u001b[0m\u001b[0;36m0\u001b[0m\u001b[0;34m]\u001b[0m\u001b[0;34m\u001b[0m\u001b[0;34m\u001b[0m\u001b[0m\n\u001b[1;32m     16\u001b[0m             \u001b[0mdelta_b\u001b[0m \u001b[0;34m=\u001b[0m \u001b[0;34m-\u001b[0m\u001b[0;36m2\u001b[0m\u001b[0;34m*\u001b[0m\u001b[0mnp\u001b[0m\u001b[0;34m.\u001b[0m\u001b[0msum\u001b[0m\u001b[0;34m(\u001b[0m\u001b[0my_train\u001b[0m \u001b[0;34m-\u001b[0m \u001b[0my_pred\u001b[0m\u001b[0;34m)\u001b[0m\u001b[0;34m/\u001b[0m\u001b[0mX_train\u001b[0m\u001b[0;34m.\u001b[0m\u001b[0mshape\u001b[0m\u001b[0;34m[\u001b[0m\u001b[0;36m0\u001b[0m\u001b[0;34m]\u001b[0m\u001b[0;34m\u001b[0m\u001b[0;34m\u001b[0m\u001b[0m\n",
      "\u001b[0;32m/tmp/ipykernel_11167/1920423811.py\u001b[0m in \u001b[0;36mpredict\u001b[0;34m(X, weights, b)\u001b[0m\n\u001b[1;32m      1\u001b[0m \u001b[0;32mdef\u001b[0m \u001b[0mpredict\u001b[0m\u001b[0;34m(\u001b[0m\u001b[0mX\u001b[0m\u001b[0;34m,\u001b[0m \u001b[0mweights\u001b[0m\u001b[0;34m,\u001b[0m \u001b[0mb\u001b[0m\u001b[0;34m)\u001b[0m\u001b[0;34m:\u001b[0m\u001b[0;34m\u001b[0m\u001b[0;34m\u001b[0m\u001b[0m\n\u001b[0;32m----> 2\u001b[0;31m     \u001b[0;32mreturn\u001b[0m \u001b[0mX\u001b[0m \u001b[0;34m@\u001b[0m \u001b[0mweights\u001b[0m \u001b[0;34m+\u001b[0m \u001b[0mb\u001b[0m\u001b[0;34m\u001b[0m\u001b[0;34m\u001b[0m\u001b[0m\n\u001b[0m\u001b[1;32m      3\u001b[0m \u001b[0;34m\u001b[0m\u001b[0m\n\u001b[1;32m      4\u001b[0m \u001b[0;32mdef\u001b[0m \u001b[0mMSE\u001b[0m\u001b[0;34m(\u001b[0m\u001b[0mweights\u001b[0m\u001b[0;34m,\u001b[0m \u001b[0mX\u001b[0m\u001b[0;34m,\u001b[0m \u001b[0my\u001b[0m\u001b[0;34m,\u001b[0m\u001b[0mbias\u001b[0m\u001b[0;34m)\u001b[0m\u001b[0;34m:\u001b[0m\u001b[0;34m\u001b[0m\u001b[0;34m\u001b[0m\u001b[0m\n\u001b[1;32m      5\u001b[0m     \u001b[0;32mreturn\u001b[0m \u001b[0;36m1\u001b[0m\u001b[0;34m/\u001b[0m\u001b[0;36m2\u001b[0m \u001b[0;34m*\u001b[0m \u001b[0mnp\u001b[0m\u001b[0;34m.\u001b[0m\u001b[0mmean\u001b[0m\u001b[0;34m(\u001b[0m\u001b[0mnp\u001b[0m\u001b[0;34m.\u001b[0m\u001b[0msquare\u001b[0m\u001b[0;34m(\u001b[0m\u001b[0mpredict\u001b[0m\u001b[0;34m(\u001b[0m\u001b[0mX\u001b[0m\u001b[0;34m,\u001b[0m \u001b[0mweights\u001b[0m \u001b[0;34m,\u001b[0m \u001b[0mbias\u001b[0m\u001b[0;34m)\u001b[0m \u001b[0;34m-\u001b[0m \u001b[0my\u001b[0m\u001b[0;34m)\u001b[0m\u001b[0;34m)\u001b[0m\u001b[0;34m\u001b[0m\u001b[0;34m\u001b[0m\u001b[0m\n",
      "\u001b[0;32m~/miniconda3/envs/NLP/lib/python3.8/site-packages/pandas/core/frame.py\u001b[0m in \u001b[0;36m__matmul__\u001b[0;34m(self, other)\u001b[0m\n\u001b[1;32m   1490\u001b[0m         \u001b[0mMatrix\u001b[0m \u001b[0mmultiplication\u001b[0m \u001b[0musing\u001b[0m \u001b[0mbinary\u001b[0m\u001b[0;31m \u001b[0m\u001b[0;31m`\u001b[0m\u001b[0;34m@\u001b[0m\u001b[0;31m`\u001b[0m \u001b[0moperator\u001b[0m \u001b[0;32min\u001b[0m \u001b[0mPython\u001b[0m\u001b[0;34m>=\u001b[0m\u001b[0;36m3.5\u001b[0m\u001b[0;34m.\u001b[0m\u001b[0;34m\u001b[0m\u001b[0;34m\u001b[0m\u001b[0m\n\u001b[1;32m   1491\u001b[0m         \"\"\"\n\u001b[0;32m-> 1492\u001b[0;31m         \u001b[0;32mreturn\u001b[0m \u001b[0mself\u001b[0m\u001b[0;34m.\u001b[0m\u001b[0mdot\u001b[0m\u001b[0;34m(\u001b[0m\u001b[0mother\u001b[0m\u001b[0;34m)\u001b[0m\u001b[0;34m\u001b[0m\u001b[0;34m\u001b[0m\u001b[0m\n\u001b[0m\u001b[1;32m   1493\u001b[0m \u001b[0;34m\u001b[0m\u001b[0m\n\u001b[1;32m   1494\u001b[0m     \u001b[0;32mdef\u001b[0m \u001b[0m__rmatmul__\u001b[0m\u001b[0;34m(\u001b[0m\u001b[0mself\u001b[0m\u001b[0;34m,\u001b[0m \u001b[0mother\u001b[0m\u001b[0;34m)\u001b[0m\u001b[0;34m:\u001b[0m\u001b[0;34m\u001b[0m\u001b[0;34m\u001b[0m\u001b[0m\n",
      "\u001b[0;32m~/miniconda3/envs/NLP/lib/python3.8/site-packages/pandas/core/frame.py\u001b[0m in \u001b[0;36mdot\u001b[0;34m(self, other)\u001b[0m\n\u001b[1;32m   1455\u001b[0m             \u001b[0mrvals\u001b[0m \u001b[0;34m=\u001b[0m \u001b[0mnp\u001b[0m\u001b[0;34m.\u001b[0m\u001b[0masarray\u001b[0m\u001b[0;34m(\u001b[0m\u001b[0mother\u001b[0m\u001b[0;34m)\u001b[0m\u001b[0;34m\u001b[0m\u001b[0;34m\u001b[0m\u001b[0m\n\u001b[1;32m   1456\u001b[0m             \u001b[0;32mif\u001b[0m \u001b[0mlvals\u001b[0m\u001b[0;34m.\u001b[0m\u001b[0mshape\u001b[0m\u001b[0;34m[\u001b[0m\u001b[0;36m1\u001b[0m\u001b[0;34m]\u001b[0m \u001b[0;34m!=\u001b[0m \u001b[0mrvals\u001b[0m\u001b[0;34m.\u001b[0m\u001b[0mshape\u001b[0m\u001b[0;34m[\u001b[0m\u001b[0;36m0\u001b[0m\u001b[0;34m]\u001b[0m\u001b[0;34m:\u001b[0m\u001b[0;34m\u001b[0m\u001b[0;34m\u001b[0m\u001b[0m\n\u001b[0;32m-> 1457\u001b[0;31m                 raise ValueError(\n\u001b[0m\u001b[1;32m   1458\u001b[0m                     \u001b[0;34mf\"Dot product shape mismatch, {lvals.shape} vs {rvals.shape}\"\u001b[0m\u001b[0;34m\u001b[0m\u001b[0;34m\u001b[0m\u001b[0m\n\u001b[1;32m   1459\u001b[0m                 )\n",
      "\u001b[0;31mValueError\u001b[0m: Dot product shape mismatch, (900, 12) vs (11,)"
     ]
    }
   ],
   "source": [
    "X_feature, weights, losses ,bias= Linear_Ridge_Regression_K(X_train,y_train,alpha=0.0001,reg_param=1e-2,iteration=100000,showloss=True)\n",
    "plt.plot([i for i in range(1,100001)], losses)\n",
    "print()\n",
    "print(weights)"
   ]
  },
  {
   "cell_type": "code",
   "execution_count": 43,
   "id": "0c61909b",
   "metadata": {},
   "outputs": [
    {
     "data": {
      "text/plain": [
       "[<matplotlib.lines.Line2D at 0x7fddac355c10>]"
      ]
     },
     "execution_count": 43,
     "metadata": {},
     "output_type": "execute_result"
    },
    {
     "data": {
      "image/png": "[encoded data removed]",
      "text/plain": [
       "<Figure size 432x288 with 1 Axes>"
      ]
     },
     "metadata": {
      "needs_background": "light"
     },
     "output_type": "display_data"
    }
   ],
   "source": [
    "y_pred = predict(X_test,weights,bias)\n",
    "plt.scatter([i for i in range(len(y_test))],y_pred)\n",
    "plt.plot([i for i in range(len(y_test))],y_test,'x')"
   ]
  },
  {
   "cell_type": "code",
   "execution_count": 51,
   "id": "5d0c914d",
   "metadata": {},
   "outputs": [
    {
     "data": {
      "text/plain": [
       "[<matplotlib.lines.Line2D at 0x7fddacd42550>]"
      ]
     },
     "execution_count": 51,
     "metadata": {},
     "output_type": "execute_result"
    },
    {
     "data": {
      "image/png": "[encoded data removed]",
      "text/plain": [
       "<Figure size 1440x360 with 1 Axes>"
      ]
     },
     "metadata": {
      "needs_background": "light"
     },
     "output_type": "display_data"
    }
   ],
   "source": [
    "y_pred = predict(X_test,weights,bias)\n",
    "fig = plt.figure(figsize=(20, 5))\n",
    "plt.scatter([i for i in range(50,70)],y_pred[50:70])\n",
    "plt.plot([i for i in range(50,70)],y_test[50:70],'x')"
   ]
  },
  {
   "cell_type": "code",
   "execution_count": 69,
   "id": "a2f89a3b",
   "metadata": {},
   "outputs": [],
   "source": [
    "def kFold(X_p,y_p, i):\n",
    "    i =  i % 10\n",
    "    if i == 0:\n",
    "        X_train = X_p.iloc[100:1000,:]\n",
    "        X_val = X_p.iloc[0:100,:]\n",
    "        y_train = y_p[100:1000]\n",
    "        y_val = y_p[0:100]\n",
    "    if i == 9:\n",
    "        X_train = X_p.iloc[0:900,:]\n",
    "        X_val = X_p.iloc[900:1000,:]\n",
    "        y_train = y_p[0:900]\n",
    "        y_val = y_p[900:1000]\n",
    "    else:\n",
    "        X_train = pd.concat([X_p.iloc[0:i*100,:] ,X_p.iloc[(i+1)*100:1000,:]] ) \n",
    "        X_val = X_p.iloc[i*100:(i+1)*100, :]\n",
    "        y_train = pd.concat([y_p[0:i*100] ,y_p[(i+1)*100:1000] ])\n",
    "        y_val = y_p[i*100:(i+1)*100]\n",
    "    return X_train , X_val ,y_train ,y_val\n",
    "    "
   ]
  },
  {
   "cell_type": "code",
   "execution_count": 105,
   "id": "9985a174",
   "metadata": {},
   "outputs": [],
   "source": [
    "X_train , X_val ,y_train ,y_val = kFold(X.iloc[0:1000,:].to_numpy, 3)"
   ]
  },
  {
   "cell_type": "code",
   "execution_count": 106,
   "id": "7711efb1",
   "metadata": {},
   "outputs": [
    {
     "data": {
      "text/plain": [
       "(100,)"
      ]
     },
     "execution_count": 106,
     "metadata": {},
     "output_type": "execute_result"
    }
   ],
   "source": [
    "y_val.shape"
   ]
  },
  {
   "cell_type": "code",
   "execution_count": null,
   "id": "efbde672",
   "metadata": {},
   "outputs": [],
   "source": []
  },
  {
   "cell_type": "code",
   "execution_count": 23,
   "id": "139132d6",
   "metadata": {},
   "outputs": [
    {
     "ename": "NameError",
     "evalue": "name 'search' is not defined",
     "output_type": "error",
     "traceback": [
      "\u001b[0;31m---------------------------------------------------------------------------\u001b[0m",
      "\u001b[0;31mNameError\u001b[0m                                 Traceback (most recent call last)",
      "\u001b[0;32m/tmp/ipykernel_11167/3397121642.py\u001b[0m in \u001b[0;36m<module>\u001b[0;34m\u001b[0m\n\u001b[0;32m----> 1\u001b[0;31m \u001b[0mprint\u001b[0m\u001b[0;34m(\u001b[0m\u001b[0msearch\u001b[0m\u001b[0;34m.\u001b[0m\u001b[0mget_params\u001b[0m\u001b[0;34m)\u001b[0m\u001b[0;34m\u001b[0m\u001b[0;34m\u001b[0m\u001b[0m\n\u001b[0m",
      "\u001b[0;31mNameError\u001b[0m: name 'search' is not defined"
     ]
    }
   ],
   "source": [
    "print(search.get_params)"
   ]
  }
 ],
 "metadata": {
  "kernelspec": {
   "display_name": "Python 3 (ipykernel)",
   "language": "python",
   "name": "python3"
  },
  "language_info": {
   "codemirror_mode": {
    "name": "ipython",
    "version": 3
   },
   "file_extension": ".py",
   "mimetype": "text/x-python",
   "name": "python",
   "nbconvert_exporter": "python",
   "pygments_lexer": "ipython3",
   "version": "3.8.5"
  }
 },
 "nbformat": 4,
 "nbformat_minor": 5
}
