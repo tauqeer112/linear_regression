{
 "cells": [
  {
   "cell_type": "markdown",
   "metadata": {
    "id": "R5_Mkzv6d162"
   },
   "source": [
    "**CS546: ACPS**\n",
    "\n",
    "**Lab_01**\n",
    "\n",
    "**Python Basics**\n",
    "\n",
    "\n",
    "Submission Deadline : 16th Jan 2022, 23:59 hours\n",
    "\n",
    "\n",
    "General Instructions:\n",
    "\n",
    "1. You have to do this lab individually.\n",
    "2. All the code should be submitted in the form of a single Jupyter notebook itself.\n",
    "3. It is encouraged to use Google colab to run a jupyter notebook (https://colab.research.google.com/) \n",
    "4. The lab must be submitted on Google classroom.\n",
    "5. The code with accompanying observations should be made part of the python notebook.\n",
    "6. Code readability is very important.\n",
    "7. Students are expected to follow the honor code of the class."
   ]
  },
  {
   "cell_type": "markdown",
   "metadata": {
    "id": "Y9VuvovAi7lt"
   },
   "source": [
    "**ASSIGNMENT QUESTIONS**\n",
    "\n",
    "\n",
    "**Question_1:** Create a (3x3) matrix and find the total sum of last two rows\n",
    "\n",
    "**Question_2:** Create a list which asks user to enter number of items and item values (the user can enter integer, float and string). Therefore, the list should accept integer, float and string type of data.\n",
    "\n",
    "ex: If the number of items entered by the user are 3 then the items values may be \"hello\", 2, 2.5 \n",
    "The output should be like \n",
    "\n",
    "list1 = ['hello', 2, 2.5]\n",
    "\n",
    "*Hint: Use for loop and append method*\n",
    "\n",
    "**Question_3:** Create a (3x3) matrix. Add 1 to each element of the matrix and print the updated matrix.\n",
    "\n",
    "**Question_4:** Given a matrix\n",
    "\n",
    "A = [[1,2,3],\n",
    "     [4,5,6],\n",
    "     [7,8,9]]\n",
    "\n",
    "Write a program to swap two rows of matrix A.\n",
    "\n",
    "**Question_5:** A Quick Service Restaurant has 1 refrigerator. There is 1 temperature sensor installed inside the refrigerator. \n",
    "\n",
    "Attached (https://drive.google.com/file/d/11wgWH_pYGM4YmADiHew6KKu8g1gCdK6e/view?usp=sharing) is data of temperature sensor for 10 days.\n",
    "\n",
    "* Find the minimum and maximum temperature attained by the refrigerator.\n",
    "* Find the average temperature\n",
    "\n",
    "*Hint: Import the file to jupyter notebook and use pandas library*"
   ]
  },
  {
   "cell_type": "code",
   "execution_count": 1,
   "metadata": {
    "id": "LOewLBDQjhRt"
   },
   "outputs": [],
   "source": [
    "# Write your name and entry no.\n",
    "Your_Name = \"Tauqeer Akhtar\"\n",
    "Entry_Number = \"2021csm1021\""
   ]
  },
  {
   "cell_type": "code",
   "execution_count": 2,
   "metadata": {
    "id": "teu7Yr2Tkijr"
   },
   "outputs": [],
   "source": [
    "#importing the required libraries\n",
    "import numpy as np\n",
    "import pandas as pd \n"
   ]
  },
  {
   "cell_type": "markdown",
   "metadata": {},
   "source": [
    "<h4>Question 1 </h4>"
   ]
  },
  {
   "cell_type": "code",
   "execution_count": 3,
   "metadata": {},
   "outputs": [
    {
     "data": {
      "text/plain": [
       "array([[1, 2, 3],\n",
       "       [4, 5, 6],\n",
       "       [7, 8, 9]])"
      ]
     },
     "execution_count": 3,
     "metadata": {},
     "output_type": "execute_result"
    }
   ],
   "source": [
    "# Creating a 3x3 matrix \n",
    "matrix  = np.array([[1,2,3],[4,5,6],[7,8,9]])\n",
    "matrix"
   ]
  },
  {
   "cell_type": "code",
   "execution_count": 4,
   "metadata": {},
   "outputs": [
    {
     "name": "stdout",
     "output_type": "stream",
     "text": [
      "[11 13 15]\n"
     ]
    }
   ],
   "source": [
    "#finding the sum of last two rows of matrix \n",
    "\n",
    "sum_of_last_two_rows = matrix[1]+matrix[2]\n",
    "print(sum_of_last_two_rows)"
   ]
  },
  {
   "cell_type": "markdown",
   "metadata": {},
   "source": [
    "<h4>Question 2 </h4>"
   ]
  },
  {
   "cell_type": "code",
   "execution_count": 5,
   "metadata": {},
   "outputs": [
    {
     "name": "stdout",
     "output_type": "stream",
     "text": [
      "Enter the number of items : 8\n",
      "Enter item 0 :hello\n",
      "Enter item 1 :2.5\n",
      "Enter item 2 :is\n",
      "Enter item 3 :float\n",
      "Enter item 4 :50\n",
      "Enter item 5 :is\n",
      "Enter item 6 :int\n",
      "Enter item 7 :end\n",
      "The list Entered is :  ['hello', 2.5, 'is', 'float', 50, 'is', 'int', 'end']\n"
     ]
    }
   ],
   "source": [
    "# A function to create list with 3 data types int , float , string\n",
    "\n",
    "def createList():\n",
    "    list_of_items = []\n",
    "    number_of_items = int(input(\"Enter the number of items : \"))\n",
    "    for i in range(number_of_items):\n",
    "        item = input(\"Enter item \" + str(i) +\" :\")\n",
    "        try:\n",
    "            item = int(item)\n",
    "            list_of_items.append(item)\n",
    "        except ValueError:\n",
    "            try:\n",
    "                item = float(item)\n",
    "                list_of_items.append(item)\n",
    "            except:\n",
    "                list_of_items.append(item)\n",
    "            \n",
    "    print(\"The list Entered is : \",list_of_items)\n",
    "        \n",
    "createList()"
   ]
  },
  {
   "cell_type": "markdown",
   "metadata": {},
   "source": [
    "<h4> Question 3 </h4>"
   ]
  },
  {
   "cell_type": "code",
   "execution_count": 6,
   "metadata": {},
   "outputs": [
    {
     "name": "stdout",
     "output_type": "stream",
     "text": [
      "[[1 2 3]\n",
      " [4 5 6]\n",
      " [7 8 9]]\n",
      "     +\n",
      "[[1. 1. 1.]\n",
      " [1. 1. 1.]\n",
      " [1. 1. 1.]] \n",
      "      =\n",
      "[[ 2.  3.  4.]\n",
      " [ 5.  6.  7.]\n",
      " [ 8.  9. 10.]]\n"
     ]
    }
   ],
   "source": [
    "# Taking the same matrix\n",
    "matrix  = np.array([[1,2,3],[4,5,6],[7,8,9]])\n",
    "\n",
    "# creating 3x3 matrix with 1 as entries.\n",
    "matrix_ones = np.ones((3,3))\n",
    "\n",
    "print(matrix)\n",
    "print(\"     +\")\n",
    "print( matrix_ones,\"\\n      =\")\n",
    "\n",
    "# Adding 1 to each element of matrix\n",
    "print(matrix+matrix_ones)"
   ]
  },
  {
   "cell_type": "markdown",
   "metadata": {},
   "source": [
    "<h4> Question 4 </h4>"
   ]
  },
  {
   "cell_type": "code",
   "execution_count": 7,
   "metadata": {},
   "outputs": [
    {
     "name": "stdout",
     "output_type": "stream",
     "text": [
      "Matrix after swapping row 0 with 2 :  [[7, 8, 9], [4, 5, 6], [1, 2, 3]]\n"
     ]
    }
   ],
   "source": [
    "# Taking the same 3x3 matrix to swap rows.\n",
    "\n",
    "A = [[1,2,3], [4,5,6], [7,8,9]]\n",
    "\n",
    "# A function to swap two rows with row numbers\n",
    "\n",
    "def swaprows(r1,r2):\n",
    "    A[r1] , A[r2] = A[r2] , A[r1]\n",
    "\n",
    "swaprows(0,2)\n",
    "# Matrix after calling the function \n",
    "print(\"Matrix after swapping row 0 with 2 : \",A)"
   ]
  },
  {
   "cell_type": "markdown",
   "metadata": {},
   "source": [
    "<h4> Question 5 </h4>"
   ]
  },
  {
   "cell_type": "code",
   "execution_count": 8,
   "metadata": {},
   "outputs": [],
   "source": [
    "# Reading the data from the csv file\n",
    "df = pd.read_csv(\"lab1.csv\")"
   ]
  },
  {
   "cell_type": "code",
   "execution_count": 9,
   "metadata": {},
   "outputs": [
    {
     "data": {
      "text/html": [
       "<div>\n",
       "<style scoped>\n",
       "    .dataframe tbody tr th:only-of-type {\n",
       "        vertical-align: middle;\n",
       "    }\n",
       "\n",
       "    .dataframe tbody tr th {\n",
       "        vertical-align: top;\n",
       "    }\n",
       "\n",
       "    .dataframe thead th {\n",
       "        text-align: right;\n",
       "    }\n",
       "</style>\n",
       "<table border=\"1\" class=\"dataframe\">\n",
       "  <thead>\n",
       "    <tr style=\"text-align: right;\">\n",
       "      <th></th>\n",
       "      <th>Date/Time</th>\n",
       "      <th>RF_Temperature</th>\n",
       "    </tr>\n",
       "  </thead>\n",
       "  <tbody>\n",
       "    <tr>\n",
       "      <th>0</th>\n",
       "      <td>01-08-2017 00:00</td>\n",
       "      <td>4.81</td>\n",
       "    </tr>\n",
       "    <tr>\n",
       "      <th>1</th>\n",
       "      <td>01-08-2017 00:01</td>\n",
       "      <td>3.90</td>\n",
       "    </tr>\n",
       "    <tr>\n",
       "      <th>2</th>\n",
       "      <td>01-08-2017 00:02</td>\n",
       "      <td>3.16</td>\n",
       "    </tr>\n",
       "    <tr>\n",
       "      <th>3</th>\n",
       "      <td>01-08-2017 00:03</td>\n",
       "      <td>2.72</td>\n",
       "    </tr>\n",
       "    <tr>\n",
       "      <th>4</th>\n",
       "      <td>01-08-2017 00:04</td>\n",
       "      <td>2.31</td>\n",
       "    </tr>\n",
       "    <tr>\n",
       "      <th>5</th>\n",
       "      <td>01-08-2017 00:05</td>\n",
       "      <td>2.44</td>\n",
       "    </tr>\n",
       "    <tr>\n",
       "      <th>6</th>\n",
       "      <td>01-08-2017 00:06</td>\n",
       "      <td>3.28</td>\n",
       "    </tr>\n",
       "    <tr>\n",
       "      <th>7</th>\n",
       "      <td>01-08-2017 00:07</td>\n",
       "      <td>4.00</td>\n",
       "    </tr>\n",
       "    <tr>\n",
       "      <th>8</th>\n",
       "      <td>01-08-2017 00:08</td>\n",
       "      <td>4.41</td>\n",
       "    </tr>\n",
       "    <tr>\n",
       "      <th>9</th>\n",
       "      <td>01-08-2017 00:09</td>\n",
       "      <td>4.69</td>\n",
       "    </tr>\n",
       "  </tbody>\n",
       "</table>\n",
       "</div>"
      ],
      "text/plain": [
       "          Date/Time  RF_Temperature\n",
       "0  01-08-2017 00:00            4.81\n",
       "1  01-08-2017 00:01            3.90\n",
       "2  01-08-2017 00:02            3.16\n",
       "3  01-08-2017 00:03            2.72\n",
       "4  01-08-2017 00:04            2.31\n",
       "5  01-08-2017 00:05            2.44\n",
       "6  01-08-2017 00:06            3.28\n",
       "7  01-08-2017 00:07            4.00\n",
       "8  01-08-2017 00:08            4.41\n",
       "9  01-08-2017 00:09            4.69"
      ]
     },
     "execution_count": 9,
     "metadata": {},
     "output_type": "execute_result"
    }
   ],
   "source": [
    "#Printing the top 10 data from the dataset\n",
    "df.head(10)"
   ]
  },
  {
   "cell_type": "code",
   "execution_count": 10,
   "metadata": {},
   "outputs": [
    {
     "data": {
      "text/plain": [
       "102.38"
      ]
     },
     "execution_count": 10,
     "metadata": {},
     "output_type": "execute_result"
    }
   ],
   "source": [
    "# Finding the maximum Temperature attained by the Refrigerator\n",
    "max(df[\"RF_Temperature\"])"
   ]
  },
  {
   "cell_type": "code",
   "execution_count": 11,
   "metadata": {},
   "outputs": [
    {
     "data": {
      "text/html": [
       "<div>\n",
       "<style scoped>\n",
       "    .dataframe tbody tr th:only-of-type {\n",
       "        vertical-align: middle;\n",
       "    }\n",
       "\n",
       "    .dataframe tbody tr th {\n",
       "        vertical-align: top;\n",
       "    }\n",
       "\n",
       "    .dataframe thead th {\n",
       "        text-align: right;\n",
       "    }\n",
       "</style>\n",
       "<table border=\"1\" class=\"dataframe\">\n",
       "  <thead>\n",
       "    <tr style=\"text-align: right;\">\n",
       "      <th></th>\n",
       "      <th>Date/Time</th>\n",
       "      <th>RF_Temperature</th>\n",
       "    </tr>\n",
       "  </thead>\n",
       "  <tbody>\n",
       "    <tr>\n",
       "      <th>10749</th>\n",
       "      <td>08-08-2017 11:09</td>\n",
       "      <td>102.38</td>\n",
       "    </tr>\n",
       "  </tbody>\n",
       "</table>\n",
       "</div>"
      ],
      "text/plain": [
       "              Date/Time  RF_Temperature\n",
       "10749  08-08-2017 11:09          102.38"
      ]
     },
     "execution_count": 11,
     "metadata": {},
     "output_type": "execute_result"
    }
   ],
   "source": [
    "# Shows the data point where maximum temperature was attained\n",
    "df[df[\"RF_Temperature\"] == max(df[\"RF_Temperature\"])]"
   ]
  },
  {
   "cell_type": "code",
   "execution_count": 12,
   "metadata": {},
   "outputs": [
    {
     "data": {
      "text/plain": [
       "1.65"
      ]
     },
     "execution_count": 12,
     "metadata": {},
     "output_type": "execute_result"
    }
   ],
   "source": [
    "# Finding the minimum Temperature attained by the Refrigerator\n",
    "min(df[\"RF_Temperature\"])"
   ]
  },
  {
   "cell_type": "code",
   "execution_count": 13,
   "metadata": {},
   "outputs": [
    {
     "data": {
      "text/html": [
       "<div>\n",
       "<style scoped>\n",
       "    .dataframe tbody tr th:only-of-type {\n",
       "        vertical-align: middle;\n",
       "    }\n",
       "\n",
       "    .dataframe tbody tr th {\n",
       "        vertical-align: top;\n",
       "    }\n",
       "\n",
       "    .dataframe thead th {\n",
       "        text-align: right;\n",
       "    }\n",
       "</style>\n",
       "<table border=\"1\" class=\"dataframe\">\n",
       "  <thead>\n",
       "    <tr style=\"text-align: right;\">\n",
       "      <th></th>\n",
       "      <th>Date/Time</th>\n",
       "      <th>RF_Temperature</th>\n",
       "    </tr>\n",
       "  </thead>\n",
       "  <tbody>\n",
       "    <tr>\n",
       "      <th>4614</th>\n",
       "      <td>04-08-2017 04:54</td>\n",
       "      <td>1.65</td>\n",
       "    </tr>\n",
       "  </tbody>\n",
       "</table>\n",
       "</div>"
      ],
      "text/plain": [
       "             Date/Time  RF_Temperature\n",
       "4614  04-08-2017 04:54            1.65"
      ]
     },
     "execution_count": 13,
     "metadata": {},
     "output_type": "execute_result"
    }
   ],
   "source": [
    "# Shows the data point where minimum temperature was attained\n",
    "df[df[\"RF_Temperature\"] == min(df[\"RF_Temperature\"])]"
   ]
  },
  {
   "cell_type": "code",
   "execution_count": 14,
   "metadata": {},
   "outputs": [
    {
     "data": {
      "text/plain": [
       "3.8181187500000244"
      ]
     },
     "execution_count": 14,
     "metadata": {},
     "output_type": "execute_result"
    }
   ],
   "source": [
    "# Finding the Average Temperature attained by the Refrigerator\n",
    "df[\"RF_Temperature\"].mean()"
   ]
  }
 ],
 "metadata": {
  "colab": {
   "collapsed_sections": [],
   "name": "CS546_Lab_01_Assignment.ipynb",
   "provenance": []
  },
  "kernelspec": {
   "display_name": "Python 3 (ipykernel)",
   "language": "python",
   "name": "python3"
  },
  "language_info": {
   "codemirror_mode": {
    "name": "ipython",
    "version": 3
   },
   "file_extension": ".py",
   "mimetype": "text/x-python",
   "name": "python",
   "nbconvert_exporter": "python",
   "pygments_lexer": "ipython3",
   "version": "3.8.5"
  }
 },
 "nbformat": 4,
 "nbformat_minor": 1
}
