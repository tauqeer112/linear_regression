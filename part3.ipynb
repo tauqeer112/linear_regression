{
 "cells": [
  {
   "cell_type": "code",
   "execution_count": 1,
   "id": "f994291b",
   "metadata": {},
   "outputs": [],
   "source": [
    "#importing libraries\n",
    "import numpy as np\n",
    "import pandas as pd \n",
    "import matplotlib.pyplot as plt\n"
   ]
  },
  {
   "cell_type": "code",
   "execution_count": 2,
   "id": "b7988042",
   "metadata": {},
   "outputs": [],
   "source": [
    "df = pd.read_csv(\"insurance.csv\")"
   ]
  },
  {
   "cell_type": "code",
   "execution_count": 3,
   "id": "04668442",
   "metadata": {
    "scrolled": true
   },
   "outputs": [
    {
     "data": {
      "text/html": [
       "<div>\n",
       "<style scoped>\n",
       "    .dataframe tbody tr th:only-of-type {\n",
       "        vertical-align: middle;\n",
       "    }\n",
       "\n",
       "    .dataframe tbody tr th {\n",
       "        vertical-align: top;\n",
       "    }\n",
       "\n",
       "    .dataframe thead th {\n",
       "        text-align: right;\n",
       "    }\n",
       "</style>\n",
       "<table border=\"1\" class=\"dataframe\">\n",
       "  <thead>\n",
       "    <tr style=\"text-align: right;\">\n",
       "      <th></th>\n",
       "      <th>age</th>\n",
       "      <th>sex</th>\n",
       "      <th>bmi</th>\n",
       "      <th>children</th>\n",
       "      <th>smoker</th>\n",
       "      <th>region</th>\n",
       "      <th>charges</th>\n",
       "    </tr>\n",
       "  </thead>\n",
       "  <tbody>\n",
       "    <tr>\n",
       "      <th>0</th>\n",
       "      <td>19</td>\n",
       "      <td>female</td>\n",
       "      <td>27.900</td>\n",
       "      <td>0</td>\n",
       "      <td>yes</td>\n",
       "      <td>southwest</td>\n",
       "      <td>16884.92400</td>\n",
       "    </tr>\n",
       "    <tr>\n",
       "      <th>1</th>\n",
       "      <td>18</td>\n",
       "      <td>male</td>\n",
       "      <td>33.770</td>\n",
       "      <td>1</td>\n",
       "      <td>no</td>\n",
       "      <td>southeast</td>\n",
       "      <td>1725.55230</td>\n",
       "    </tr>\n",
       "    <tr>\n",
       "      <th>2</th>\n",
       "      <td>28</td>\n",
       "      <td>male</td>\n",
       "      <td>33.000</td>\n",
       "      <td>3</td>\n",
       "      <td>no</td>\n",
       "      <td>southeast</td>\n",
       "      <td>4449.46200</td>\n",
       "    </tr>\n",
       "    <tr>\n",
       "      <th>3</th>\n",
       "      <td>33</td>\n",
       "      <td>male</td>\n",
       "      <td>22.705</td>\n",
       "      <td>0</td>\n",
       "      <td>no</td>\n",
       "      <td>northwest</td>\n",
       "      <td>21984.47061</td>\n",
       "    </tr>\n",
       "    <tr>\n",
       "      <th>4</th>\n",
       "      <td>32</td>\n",
       "      <td>male</td>\n",
       "      <td>28.880</td>\n",
       "      <td>0</td>\n",
       "      <td>no</td>\n",
       "      <td>northwest</td>\n",
       "      <td>3866.85520</td>\n",
       "    </tr>\n",
       "  </tbody>\n",
       "</table>\n",
       "</div>"
      ],
      "text/plain": [
       "   age     sex     bmi  children smoker     region      charges\n",
       "0   19  female  27.900         0    yes  southwest  16884.92400\n",
       "1   18    male  33.770         1     no  southeast   1725.55230\n",
       "2   28    male  33.000         3     no  southeast   4449.46200\n",
       "3   33    male  22.705         0     no  northwest  21984.47061\n",
       "4   32    male  28.880         0     no  northwest   3866.85520"
      ]
     },
     "execution_count": 3,
     "metadata": {},
     "output_type": "execute_result"
    }
   ],
   "source": [
    "df.head()"
   ]
  },
  {
   "cell_type": "code",
   "execution_count": null,
   "id": "699dea7d",
   "metadata": {},
   "outputs": [],
   "source": []
  },
  {
   "cell_type": "code",
   "execution_count": 4,
   "id": "2aad92be",
   "metadata": {},
   "outputs": [],
   "source": [
    "categorical_features = [\"sex\",'smoker','region']"
   ]
  },
  {
   "cell_type": "code",
   "execution_count": 5,
   "id": "614bf737",
   "metadata": {},
   "outputs": [],
   "source": [
    "df_cat_columns = pd.get_dummies(df[categorical_features])"
   ]
  },
  {
   "cell_type": "code",
   "execution_count": 6,
   "id": "5cb537f9",
   "metadata": {},
   "outputs": [],
   "source": [
    "df =  df.drop(categorical_features , axis=1)"
   ]
  },
  {
   "cell_type": "code",
   "execution_count": 7,
   "id": "1b89e46c",
   "metadata": {},
   "outputs": [],
   "source": [
    "df = pd.concat([df,df_cat_columns],axis=1)"
   ]
  },
  {
   "cell_type": "markdown",
   "id": "556af552",
   "metadata": {},
   "source": [
    "<h3>Data After One Hot encoding "
   ]
  },
  {
   "cell_type": "code",
   "execution_count": 8,
   "id": "9e056008",
   "metadata": {},
   "outputs": [
    {
     "data": {
      "text/html": [
       "<div>\n",
       "<style scoped>\n",
       "    .dataframe tbody tr th:only-of-type {\n",
       "        vertical-align: middle;\n",
       "    }\n",
       "\n",
       "    .dataframe tbody tr th {\n",
       "        vertical-align: top;\n",
       "    }\n",
       "\n",
       "    .dataframe thead th {\n",
       "        text-align: right;\n",
       "    }\n",
       "</style>\n",
       "<table border=\"1\" class=\"dataframe\">\n",
       "  <thead>\n",
       "    <tr style=\"text-align: right;\">\n",
       "      <th></th>\n",
       "      <th>age</th>\n",
       "      <th>bmi</th>\n",
       "      <th>children</th>\n",
       "      <th>charges</th>\n",
       "      <th>sex_female</th>\n",
       "      <th>sex_male</th>\n",
       "      <th>smoker_no</th>\n",
       "      <th>smoker_yes</th>\n",
       "      <th>region_northeast</th>\n",
       "      <th>region_northwest</th>\n",
       "      <th>region_southeast</th>\n",
       "      <th>region_southwest</th>\n",
       "    </tr>\n",
       "  </thead>\n",
       "  <tbody>\n",
       "    <tr>\n",
       "      <th>0</th>\n",
       "      <td>19</td>\n",
       "      <td>27.900</td>\n",
       "      <td>0</td>\n",
       "      <td>16884.92400</td>\n",
       "      <td>1</td>\n",
       "      <td>0</td>\n",
       "      <td>0</td>\n",
       "      <td>1</td>\n",
       "      <td>0</td>\n",
       "      <td>0</td>\n",
       "      <td>0</td>\n",
       "      <td>1</td>\n",
       "    </tr>\n",
       "    <tr>\n",
       "      <th>1</th>\n",
       "      <td>18</td>\n",
       "      <td>33.770</td>\n",
       "      <td>1</td>\n",
       "      <td>1725.55230</td>\n",
       "      <td>0</td>\n",
       "      <td>1</td>\n",
       "      <td>1</td>\n",
       "      <td>0</td>\n",
       "      <td>0</td>\n",
       "      <td>0</td>\n",
       "      <td>1</td>\n",
       "      <td>0</td>\n",
       "    </tr>\n",
       "    <tr>\n",
       "      <th>2</th>\n",
       "      <td>28</td>\n",
       "      <td>33.000</td>\n",
       "      <td>3</td>\n",
       "      <td>4449.46200</td>\n",
       "      <td>0</td>\n",
       "      <td>1</td>\n",
       "      <td>1</td>\n",
       "      <td>0</td>\n",
       "      <td>0</td>\n",
       "      <td>0</td>\n",
       "      <td>1</td>\n",
       "      <td>0</td>\n",
       "    </tr>\n",
       "    <tr>\n",
       "      <th>3</th>\n",
       "      <td>33</td>\n",
       "      <td>22.705</td>\n",
       "      <td>0</td>\n",
       "      <td>21984.47061</td>\n",
       "      <td>0</td>\n",
       "      <td>1</td>\n",
       "      <td>1</td>\n",
       "      <td>0</td>\n",
       "      <td>0</td>\n",
       "      <td>1</td>\n",
       "      <td>0</td>\n",
       "      <td>0</td>\n",
       "    </tr>\n",
       "    <tr>\n",
       "      <th>4</th>\n",
       "      <td>32</td>\n",
       "      <td>28.880</td>\n",
       "      <td>0</td>\n",
       "      <td>3866.85520</td>\n",
       "      <td>0</td>\n",
       "      <td>1</td>\n",
       "      <td>1</td>\n",
       "      <td>0</td>\n",
       "      <td>0</td>\n",
       "      <td>1</td>\n",
       "      <td>0</td>\n",
       "      <td>0</td>\n",
       "    </tr>\n",
       "  </tbody>\n",
       "</table>\n",
       "</div>"
      ],
      "text/plain": [
       "   age     bmi  children      charges  sex_female  sex_male  smoker_no  \\\n",
       "0   19  27.900         0  16884.92400           1         0          0   \n",
       "1   18  33.770         1   1725.55230           0         1          1   \n",
       "2   28  33.000         3   4449.46200           0         1          1   \n",
       "3   33  22.705         0  21984.47061           0         1          1   \n",
       "4   32  28.880         0   3866.85520           0         1          1   \n",
       "\n",
       "   smoker_yes  region_northeast  region_northwest  region_southeast  \\\n",
       "0           1                 0                 0                 0   \n",
       "1           0                 0                 0                 1   \n",
       "2           0                 0                 0                 1   \n",
       "3           0                 0                 1                 0   \n",
       "4           0                 0                 1                 0   \n",
       "\n",
       "   region_southwest  \n",
       "0                 1  \n",
       "1                 0  \n",
       "2                 0  \n",
       "3                 0  \n",
       "4                 0  "
      ]
     },
     "execution_count": 8,
     "metadata": {},
     "output_type": "execute_result"
    }
   ],
   "source": [
    "df.head()"
   ]
  },
  {
   "cell_type": "code",
   "execution_count": null,
   "id": "8904065a",
   "metadata": {},
   "outputs": [],
   "source": []
  },
  {
   "cell_type": "code",
   "execution_count": 9,
   "id": "1d2a6bff",
   "metadata": {},
   "outputs": [],
   "source": [
    "y = df['charges']"
   ]
  },
  {
   "cell_type": "code",
   "execution_count": 10,
   "id": "e2373548",
   "metadata": {},
   "outputs": [],
   "source": [
    "X = df.drop(['charges'], axis=1)"
   ]
  },
  {
   "cell_type": "markdown",
   "id": "498a62f8",
   "metadata": {},
   "source": [
    "<h3>Normalizing"
   ]
  },
  {
   "cell_type": "code",
   "execution_count": 11,
   "id": "0b9e0a6e",
   "metadata": {},
   "outputs": [],
   "source": [
    "\n",
    "X.iloc[:,:] = (X.iloc[:, : ] - np.mean(X.iloc[:, :], axis=0)) / np.std(X.iloc[:, :], axis=0)"
   ]
  },
  {
   "cell_type": "code",
   "execution_count": 12,
   "id": "785405fc",
   "metadata": {},
   "outputs": [
    {
     "name": "stdout",
     "output_type": "stream",
     "text": [
      "age -0.0\n",
      "1.0\n",
      "bmi 0.0\n",
      "1.0\n",
      "children 0.0\n",
      "1.0\n",
      "sex_female 0.0\n",
      "1.0\n",
      "sex_male -0.0\n",
      "1.0\n",
      "smoker_no -0.0\n",
      "1.0\n",
      "smoker_yes 0.0\n",
      "1.0\n",
      "region_northeast -0.0\n",
      "1.0\n",
      "region_northwest -0.0\n",
      "1.0\n",
      "region_southeast 0.0\n",
      "1.0\n",
      "region_southwest 0.0\n",
      "1.0\n"
     ]
    }
   ],
   "source": [
    "for col in X.columns:\n",
    "    if col != 'bias':\n",
    "        print(col, end=\" \")\n",
    "        print(round(np.mean(X[col]),3))\n",
    "        print(round(np.std(X[col]),3))"
   ]
  },
  {
   "cell_type": "markdown",
   "id": "fde9675a",
   "metadata": {},
   "source": [
    "<h3> Function to predict and calculate Mean squared error"
   ]
  },
  {
   "cell_type": "code",
   "execution_count": 13,
   "id": "001301a6",
   "metadata": {},
   "outputs": [],
   "source": [
    "def predict(X, weights, b):\n",
    "    return X @ weights + b\n",
    "\n",
    "def MSE(weights, X, y,bias):\n",
    "    return 1/2 * np.mean(np.square(predict(X, weights , bias) - y)) "
   ]
  },
  {
   "cell_type": "code",
   "execution_count": 14,
   "id": "79d45020",
   "metadata": {
    "scrolled": true
   },
   "outputs": [
    {
     "name": "stdout",
     "output_type": "stream",
     "text": [
      "(1338, 11)\n"
     ]
    }
   ],
   "source": [
    "print(X.shape)"
   ]
  },
  {
   "cell_type": "markdown",
   "id": "afb1b8ba",
   "metadata": {},
   "source": [
    "<h3>Function to return different train and validation set "
   ]
  },
  {
   "cell_type": "code",
   "execution_count": 15,
   "id": "b509b04f",
   "metadata": {},
   "outputs": [],
   "source": [
    "def kFold(X_p,y_p, i):\n",
    "    i =  i % 10\n",
    "    if i == 0:\n",
    "        X_train = X_p.iloc[100:1000,:]\n",
    "        X_val = X_p.iloc[0:100,:]\n",
    "        y_train = y_p[100:1000]\n",
    "        y_val = y_p[0:100]\n",
    "    if i == 9:\n",
    "        X_train = X_p.iloc[0:900,:]\n",
    "        X_val = X_p.iloc[900:1000,:]\n",
    "        y_train = y_p[0:900]\n",
    "        y_val = y_p[900:1000]\n",
    "    else:\n",
    "        X_train = pd.concat([X_p.iloc[0:i*100,:] ,X_p.iloc[(i+1)*100:1000,:]] ) \n",
    "        X_val = X_p.iloc[i*100:(i+1)*100, :]\n",
    "        y_train = pd.concat([y_p[0:i*100] ,y_p[(i+1)*100:1000] ])\n",
    "        y_val = y_p[i*100:(i+1)*100]\n",
    "    return X_train , X_val ,y_train ,y_val\n",
    "    "
   ]
  },
  {
   "cell_type": "markdown",
   "id": "e0dc15c0",
   "metadata": {},
   "source": [
    "<h3>Function to find optimal weight using Gradient Descent with regularization"
   ]
  },
  {
   "cell_type": "code",
   "execution_count": 16,
   "id": "757bb8c2",
   "metadata": {},
   "outputs": [],
   "source": [
    "def Linear_Ridge_Regression(X,y,alpha = 0.0001,iteration=500,showloss=False, reg_param = 1e-6):  \n",
    "    m , n = X.shape\n",
    "    bias=1\n",
    "    weights = np.ones(X.shape[1])\n",
    "    losses = []\n",
    "    for i in range(iteration):\n",
    "        y_pred = predict(X,weights,bias)\n",
    "        delta_w = (-(2*(X.T).dot(y - y_pred)) + (2*reg_param*weights))/X.shape[0]\n",
    "        delta_b = -2*np.sum(y - y_pred)/X.shape[0]\n",
    "        weights -= alpha * delta_w\n",
    "        bias -= alpha * delta_b\n",
    "        if showloss == True:\n",
    "            if i % 100 == 10:\n",
    "                print(MSE(weights,X,y,bias),end = \"->\")\n",
    "        losses.append(MSE(weights, X, y,bias))\n",
    "    return X,weights,losses,bias"
   ]
  },
  {
   "cell_type": "markdown",
   "id": "c3738f43",
   "metadata": {},
   "source": [
    "<h3>Function to find optimal weight using Gradient Descent with regularization and K fold validation"
   ]
  },
  {
   "cell_type": "code",
   "execution_count": 17,
   "id": "7b586059",
   "metadata": {},
   "outputs": [],
   "source": [
    "def Linear_Ridge_Regression_kfold(X,y,alpha = 0.0001,iteration=500,showloss=False, reg_param = 1e-6):  \n",
    "    weights_vector = []\n",
    "    bias_vector = []\n",
    "    train_losses = []\n",
    "    validation_losses = []\n",
    "    for j in range(10):\n",
    "        \n",
    "        X_train , X_val ,y_train ,y_val = kFold(X,y,j)\n",
    "        X_train = X_train.to_numpy()\n",
    "        X_val = X_val.to_numpy()\n",
    "        y_train =  y_train.to_numpy()\n",
    "        y_val = y_val.to_numpy()\n",
    "        bias=1\n",
    "        weights = np.ones(X_train.shape[1])\n",
    "        m , n = X_train.shape\n",
    "#         print(\" \")\n",
    "        for i in range(iteration):\n",
    "            y_pred = predict(X_train,weights,bias)\n",
    "            delta_w = (-(2*(X_train.T).dot(y_train - y_pred)) + (2*reg_param*weights))/X_train.shape[0]\n",
    "            delta_b = -2*np.sum(y_train - y_pred)/X_train.shape[0]\n",
    "            weights -= alpha * delta_w\n",
    "            bias -= alpha * delta_b\n",
    "            if showloss == True:\n",
    "                if i % 100 == 1:\n",
    "                    print(MSE(weights,X_train,y_train,bias),end = \"->\")\n",
    "        Tloss = MSE(weights,X_train,y_train,bias)\n",
    "        Vloss = MSE(weights,X_val,y_val,bias)\n",
    "#         print(\"Training losses =  \", Tloss ,\" \",j ,\"set as Validation , Validation loss =\", Vloss)\n",
    "        train_losses.append(Tloss)\n",
    "        validation_losses.append(Vloss)\n",
    "        weights_vector.append(weights)\n",
    "        bias_vector.append(bias)\n",
    "    return weights_vector,bias_vector,train_losses,validation_losses"
   ]
  },
  {
   "cell_type": "code",
   "execution_count": 18,
   "id": "adf204fd",
   "metadata": {},
   "outputs": [],
   "source": [
    "X_train = X.iloc[:1000,:]\n",
    "y_train = y[:1000]\n",
    "X_test = X.iloc[1000:-1,:]\n",
    "y_test = y[1000:-1]"
   ]
  },
  {
   "cell_type": "code",
   "execution_count": 19,
   "id": "f26dd4f3",
   "metadata": {},
   "outputs": [],
   "source": [
    "\n",
    "weights_vector,bias_vector,train_losses,validation_losses = Linear_Ridge_Regression_kfold(X_train,y_train,alpha = 0.01,iteration=5000,showloss=False, reg_param = 0)"
   ]
  },
  {
   "cell_type": "markdown",
   "id": "ce90f229",
   "metadata": {},
   "source": [
    "<h3> Train and Validation Error on different set from K sets"
   ]
  },
  {
   "cell_type": "code",
   "execution_count": 20,
   "id": "1bc15273",
   "metadata": {},
   "outputs": [
    {
     "data": {
      "text/plain": [
       "<matplotlib.legend.Legend at 0x7f54638a47f0>"
      ]
     },
     "execution_count": 20,
     "metadata": {},
     "output_type": "execute_result"
    },
    {
     "data": {
      "image/png": "[encoded data removed]",
      "text/plain": [
       "<Figure size 1440x360 with 1 Axes>"
      ]
     },
     "metadata": {
      "needs_background": "light"
     },
     "output_type": "display_data"
    }
   ],
   "source": [
    "fig = plt.figure(figsize=(20, 5))\n",
    "plt.scatter([i for i in range(10)], train_losses , label = ' Train Error')\n",
    "plt.scatter([i for i in range(10)], validation_losses , label = \"Validation Error\")\n",
    "plt.plot([i for i in range(10)], train_losses )\n",
    "plt.plot([i for i in range(10)], validation_losses )\n",
    "plt.xlabel(\"Kth training and validation set \")\n",
    "plt.ylabel(\"Error\")\n",
    "plt.title(\"Train error VS Validation Error of different set\")\n",
    "plt.legend()"
   ]
  },
  {
   "cell_type": "markdown",
   "id": "8be4a387",
   "metadata": {},
   "source": [
    "<h3> Finding train and validation losses with K fold and different value or regularaization parameter"
   ]
  },
  {
   "cell_type": "code",
   "execution_count": 21,
   "id": "570a3160",
   "metadata": {},
   "outputs": [],
   "source": [
    "reg_list = [0 , 0.1, 0.001,  0.0001, 5 , 100 ,1000,10000]\n",
    "trainLoss_reg = []\n",
    "validationLoss_reg = []\n",
    "for reg in reg_list:\n",
    "    weights_vector,bias_vector,train_losses,validation_losses = Linear_Ridge_Regression_kfold(X_train,\n",
    "                                                                                              y_train,\n",
    "                                                                                              alpha = 0.01,\n",
    "                                                                                              iteration=5000,\n",
    "                                                                                              showloss=False, \n",
    "                                                                                              reg_param = reg)\n",
    "    trainLoss_reg.append(np.mean(train_losses))\n",
    "    validationLoss_reg.append(np.mean(validation_losses))\n",
    "    "
   ]
  },
  {
   "cell_type": "code",
   "execution_count": 22,
   "id": "8556b9c0",
   "metadata": {},
   "outputs": [
    {
     "data": {
      "text/plain": [
       "<matplotlib.legend.Legend at 0x7f5463073250>"
      ]
     },
     "execution_count": 22,
     "metadata": {},
     "output_type": "execute_result"
    },
    {
     "data": {
      "image/png": "[encoded data removed]",
      "text/plain": [
       "<Figure size 1440x360 with 1 Axes>"
      ]
     },
     "metadata": {
      "needs_background": "light"
     },
     "output_type": "display_data"
    }
   ],
   "source": [
    "fig = plt.figure(figsize=(20, 5))\n",
    "plt.scatter(np.arange(len(reg_list)), trainLoss_reg)\n",
    "plt.scatter(np.arange(len(reg_list)), validationLoss_reg)\n",
    "plt.plot(np.arange(len(reg_list)), trainLoss_reg, label= \"Train Loss\")\n",
    "plt.plot(np.arange(len(reg_list)), validationLoss_reg , label =\"Validation Loss\")\n",
    "plt.xlabel(\" Regularization parameter value\")\n",
    "plt.ylabel(\"Error\")\n",
    "plt.title(\"Train Loss , Validation Loss VS Regularization\")\n",
    "plt.xticks(np.arange(len(reg_list)),labels=reg_list)\n",
    "plt.legend()\n"
   ]
  },
  {
   "cell_type": "code",
   "execution_count": 23,
   "id": "2c7881d1",
   "metadata": {},
   "outputs": [],
   "source": [
    "reg_list = [0 , 0.1, 0.01,  0.001, 5 ,20 , 100 ,1000,10000]\n",
    "TrainLoss_reg=[]\n",
    "TestLoss_reg=[]\n",
    "variance_log=[]\n",
    "for reg in reg_list:\n",
    "    X_train,weights,losses,bias = Linear_Ridge_Regression(X_train, y_train, alpha = 0.01, iteration=5000,\n",
    "                                                                                              showloss=False, \n",
    "                                                                                              reg_param = reg)\n",
    "    TrainLoss_reg.append(MSE(weights,X_train,y_train,bias))\n",
    "    TestLoss_reg.append(MSE(weights,X_test,y_test,bias))\n",
    "    variance =  np.var(predict(X_test,weights,bias))\n",
    "    variance_log.append(variance)\n",
    "    \n",
    "\n"
   ]
  },
  {
   "cell_type": "code",
   "execution_count": 24,
   "id": "cbb3a59c",
   "metadata": {},
   "outputs": [
    {
     "data": {
      "text/plain": [
       "<matplotlib.legend.Legend at 0x7f5462ff8d90>"
      ]
     },
     "execution_count": 24,
     "metadata": {},
     "output_type": "execute_result"
    },
    {
     "data": {
      "image/png": "[encoded data removed]",
      "text/plain": [
       "<Figure size 1440x360 with 1 Axes>"
      ]
     },
     "metadata": {
      "needs_background": "light"
     },
     "output_type": "display_data"
    }
   ],
   "source": [
    "fig = plt.figure(figsize=(20, 5))\n",
    "plt.scatter(np.arange(len(reg_list)), TrainLoss_reg)\n",
    "plt.scatter(np.arange(len(reg_list)), TestLoss_reg)\n",
    "plt.plot(np.arange(len(reg_list)), TrainLoss_reg,label=\"Trainloss\")\n",
    "plt.plot(np.arange(len(reg_list)), TestLoss_reg, label = \"TestLoss\")\n",
    "plt.plot(np.arange(len(reg_list)), variance_log,label = \"variance\")\n",
    "plt.title(\"Train Loss , Test Loss , Variance VS Regularization\")\n",
    "plt.xticks(np.arange(len(reg_list)),labels=reg_list)\n",
    "plt.legend()"
   ]
  },
  {
   "cell_type": "code",
   "execution_count": 25,
   "id": "0c61909b",
   "metadata": {},
   "outputs": [],
   "source": [
    "X_train,weights,losses,bias = Linear_Ridge_Regression(X_train, y_train, alpha = 0.01, iteration=10000,\n",
    "                                                                                              showloss=False, \n",
    "                                                                                              reg_param = 0.1)\n"
   ]
  },
  {
   "cell_type": "code",
   "execution_count": 26,
   "id": "9e0c1a6b",
   "metadata": {},
   "outputs": [
    {
     "data": {
      "text/plain": [
       "<matplotlib.legend.Legend at 0x7f5462ffd880>"
      ]
     },
     "execution_count": 26,
     "metadata": {},
     "output_type": "execute_result"
    },
    {
     "data": {
      "image/png": "[encoded data removed]",
      "text/plain": [
       "<Figure size 1440x360 with 1 Axes>"
      ]
     },
     "metadata": {
      "needs_background": "light"
     },
     "output_type": "display_data"
    }
   ],
   "source": [
    "fig = plt.figure(figsize=(20, 5))\n",
    "y_pred = predict(X_test,weights,bias)\n",
    "plt.scatter([i for i in range(len(y_test[50:70]))],y_pred[50:70],label='y_pred')\n",
    "plt.plot([i for i in range(len(y_test[50:70]))],y_test[50:70],'rx',label=\"y_real\")\n",
    "plt.xlabel(\"Data Index\")\n",
    "plt.ylabel(\"Dependent Variable, \")\n",
    "plt.title(\"Ground Truth Vs Prediction\")\n",
    "plt.legend()"
   ]
  },
  {
   "cell_type": "code",
   "execution_count": null,
   "id": "a2f89a3b",
   "metadata": {},
   "outputs": [],
   "source": []
  }
 ],
 "metadata": {
  "kernelspec": {
   "display_name": "Python 3 (ipykernel)",
   "language": "python",
   "name": "python3"
  },
  "language_info": {
   "codemirror_mode": {
    "name": "ipython",
    "version": 3
   },
   "file_extension": ".py",
   "mimetype": "text/x-python",
   "name": "python",
   "nbconvert_exporter": "python",
   "pygments_lexer": "ipython3",
   "version": "3.8.5"
  }
 },
 "nbformat": 4,
 "nbformat_minor": 5
}
