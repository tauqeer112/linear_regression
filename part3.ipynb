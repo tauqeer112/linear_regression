{
 "cells": [
  {
   "cell_type": "code",
   "execution_count": 1,
   "id": "f994291b",
   "metadata": {},
   "outputs": [],
   "source": [
    "import numpy as np\n",
    "import pandas as pd \n",
    "import matplotlib.pyplot as plt\n"
   ]
  },
  {
   "cell_type": "code",
   "execution_count": 2,
   "id": "b7988042",
   "metadata": {},
   "outputs": [],
   "source": [
    "df = pd.read_csv(\"insurance.csv\")"
   ]
  },
  {
   "cell_type": "code",
   "execution_count": 58,
   "id": "04668442",
   "metadata": {
    "scrolled": true
   },
   "outputs": [
    {
     "data": {
      "text/html": [
       "<div>\n",
       "<style scoped>\n",
       "    .dataframe tbody tr th:only-of-type {\n",
       "        vertical-align: middle;\n",
       "    }\n",
       "\n",
       "    .dataframe tbody tr th {\n",
       "        vertical-align: top;\n",
       "    }\n",
       "\n",
       "    .dataframe thead th {\n",
       "        text-align: right;\n",
       "    }\n",
       "</style>\n",
       "<table border=\"1\" class=\"dataframe\">\n",
       "  <thead>\n",
       "    <tr style=\"text-align: right;\">\n",
       "      <th></th>\n",
       "      <th>age</th>\n",
       "      <th>bmi</th>\n",
       "      <th>children</th>\n",
       "      <th>charges</th>\n",
       "      <th>sex_female</th>\n",
       "      <th>sex_male</th>\n",
       "      <th>smoker_no</th>\n",
       "      <th>smoker_yes</th>\n",
       "      <th>region_northeast</th>\n",
       "      <th>region_northwest</th>\n",
       "      <th>region_southeast</th>\n",
       "      <th>region_southwest</th>\n",
       "    </tr>\n",
       "  </thead>\n",
       "  <tbody>\n",
       "    <tr>\n",
       "      <th>0</th>\n",
       "      <td>19</td>\n",
       "      <td>27.900</td>\n",
       "      <td>0</td>\n",
       "      <td>16884.92400</td>\n",
       "      <td>1</td>\n",
       "      <td>0</td>\n",
       "      <td>0</td>\n",
       "      <td>1</td>\n",
       "      <td>0</td>\n",
       "      <td>0</td>\n",
       "      <td>0</td>\n",
       "      <td>1</td>\n",
       "    </tr>\n",
       "    <tr>\n",
       "      <th>1</th>\n",
       "      <td>18</td>\n",
       "      <td>33.770</td>\n",
       "      <td>1</td>\n",
       "      <td>1725.55230</td>\n",
       "      <td>0</td>\n",
       "      <td>1</td>\n",
       "      <td>1</td>\n",
       "      <td>0</td>\n",
       "      <td>0</td>\n",
       "      <td>0</td>\n",
       "      <td>1</td>\n",
       "      <td>0</td>\n",
       "    </tr>\n",
       "    <tr>\n",
       "      <th>2</th>\n",
       "      <td>28</td>\n",
       "      <td>33.000</td>\n",
       "      <td>3</td>\n",
       "      <td>4449.46200</td>\n",
       "      <td>0</td>\n",
       "      <td>1</td>\n",
       "      <td>1</td>\n",
       "      <td>0</td>\n",
       "      <td>0</td>\n",
       "      <td>0</td>\n",
       "      <td>1</td>\n",
       "      <td>0</td>\n",
       "    </tr>\n",
       "    <tr>\n",
       "      <th>3</th>\n",
       "      <td>33</td>\n",
       "      <td>22.705</td>\n",
       "      <td>0</td>\n",
       "      <td>21984.47061</td>\n",
       "      <td>0</td>\n",
       "      <td>1</td>\n",
       "      <td>1</td>\n",
       "      <td>0</td>\n",
       "      <td>0</td>\n",
       "      <td>1</td>\n",
       "      <td>0</td>\n",
       "      <td>0</td>\n",
       "    </tr>\n",
       "    <tr>\n",
       "      <th>4</th>\n",
       "      <td>32</td>\n",
       "      <td>28.880</td>\n",
       "      <td>0</td>\n",
       "      <td>3866.85520</td>\n",
       "      <td>0</td>\n",
       "      <td>1</td>\n",
       "      <td>1</td>\n",
       "      <td>0</td>\n",
       "      <td>0</td>\n",
       "      <td>1</td>\n",
       "      <td>0</td>\n",
       "      <td>0</td>\n",
       "    </tr>\n",
       "  </tbody>\n",
       "</table>\n",
       "</div>"
      ],
      "text/plain": [
       "   age     bmi  children      charges  sex_female  sex_male  smoker_no  \\\n",
       "0   19  27.900         0  16884.92400           1         0          0   \n",
       "1   18  33.770         1   1725.55230           0         1          1   \n",
       "2   28  33.000         3   4449.46200           0         1          1   \n",
       "3   33  22.705         0  21984.47061           0         1          1   \n",
       "4   32  28.880         0   3866.85520           0         1          1   \n",
       "\n",
       "   smoker_yes  region_northeast  region_northwest  region_southeast  \\\n",
       "0           1                 0                 0                 0   \n",
       "1           0                 0                 0                 1   \n",
       "2           0                 0                 0                 1   \n",
       "3           0                 0                 1                 0   \n",
       "4           0                 0                 1                 0   \n",
       "\n",
       "   region_southwest  \n",
       "0                 1  \n",
       "1                 0  \n",
       "2                 0  \n",
       "3                 0  \n",
       "4                 0  "
      ]
     },
     "execution_count": 58,
     "metadata": {},
     "output_type": "execute_result"
    }
   ],
   "source": [
    "df.head()"
   ]
  },
  {
   "cell_type": "code",
   "execution_count": 62,
   "id": "699dea7d",
   "metadata": {},
   "outputs": [
    {
     "data": {
      "text/plain": [
       "0.2526158445440957"
      ]
     },
     "execution_count": 62,
     "metadata": {},
     "output_type": "execute_result"
    }
   ],
   "source": []
  },
  {
   "cell_type": "code",
   "execution_count": 4,
   "id": "2aad92be",
   "metadata": {},
   "outputs": [],
   "source": [
    "categorical_features = [\"sex\",'smoker','region']"
   ]
  },
  {
   "cell_type": "code",
   "execution_count": 5,
   "id": "614bf737",
   "metadata": {},
   "outputs": [],
   "source": [
    "df_cat_columns = pd.get_dummies(df[categorical_features])"
   ]
  },
  {
   "cell_type": "code",
   "execution_count": 6,
   "id": "5cb537f9",
   "metadata": {},
   "outputs": [],
   "source": [
    "df =  df.drop(categorical_features , axis=1)"
   ]
  },
  {
   "cell_type": "code",
   "execution_count": 7,
   "id": "1b89e46c",
   "metadata": {},
   "outputs": [],
   "source": [
    "df = pd.concat([df,df_cat_columns],axis=1)"
   ]
  },
  {
   "cell_type": "code",
   "execution_count": 8,
   "id": "9e056008",
   "metadata": {},
   "outputs": [
    {
     "data": {
      "text/html": [
       "<div>\n",
       "<style scoped>\n",
       "    .dataframe tbody tr th:only-of-type {\n",
       "        vertical-align: middle;\n",
       "    }\n",
       "\n",
       "    .dataframe tbody tr th {\n",
       "        vertical-align: top;\n",
       "    }\n",
       "\n",
       "    .dataframe thead th {\n",
       "        text-align: right;\n",
       "    }\n",
       "</style>\n",
       "<table border=\"1\" class=\"dataframe\">\n",
       "  <thead>\n",
       "    <tr style=\"text-align: right;\">\n",
       "      <th></th>\n",
       "      <th>age</th>\n",
       "      <th>bmi</th>\n",
       "      <th>children</th>\n",
       "      <th>charges</th>\n",
       "      <th>sex_female</th>\n",
       "      <th>sex_male</th>\n",
       "      <th>smoker_no</th>\n",
       "      <th>smoker_yes</th>\n",
       "      <th>region_northeast</th>\n",
       "      <th>region_northwest</th>\n",
       "      <th>region_southeast</th>\n",
       "      <th>region_southwest</th>\n",
       "    </tr>\n",
       "  </thead>\n",
       "  <tbody>\n",
       "    <tr>\n",
       "      <th>0</th>\n",
       "      <td>19</td>\n",
       "      <td>27.900</td>\n",
       "      <td>0</td>\n",
       "      <td>16884.92400</td>\n",
       "      <td>1</td>\n",
       "      <td>0</td>\n",
       "      <td>0</td>\n",
       "      <td>1</td>\n",
       "      <td>0</td>\n",
       "      <td>0</td>\n",
       "      <td>0</td>\n",
       "      <td>1</td>\n",
       "    </tr>\n",
       "    <tr>\n",
       "      <th>1</th>\n",
       "      <td>18</td>\n",
       "      <td>33.770</td>\n",
       "      <td>1</td>\n",
       "      <td>1725.55230</td>\n",
       "      <td>0</td>\n",
       "      <td>1</td>\n",
       "      <td>1</td>\n",
       "      <td>0</td>\n",
       "      <td>0</td>\n",
       "      <td>0</td>\n",
       "      <td>1</td>\n",
       "      <td>0</td>\n",
       "    </tr>\n",
       "    <tr>\n",
       "      <th>2</th>\n",
       "      <td>28</td>\n",
       "      <td>33.000</td>\n",
       "      <td>3</td>\n",
       "      <td>4449.46200</td>\n",
       "      <td>0</td>\n",
       "      <td>1</td>\n",
       "      <td>1</td>\n",
       "      <td>0</td>\n",
       "      <td>0</td>\n",
       "      <td>0</td>\n",
       "      <td>1</td>\n",
       "      <td>0</td>\n",
       "    </tr>\n",
       "    <tr>\n",
       "      <th>3</th>\n",
       "      <td>33</td>\n",
       "      <td>22.705</td>\n",
       "      <td>0</td>\n",
       "      <td>21984.47061</td>\n",
       "      <td>0</td>\n",
       "      <td>1</td>\n",
       "      <td>1</td>\n",
       "      <td>0</td>\n",
       "      <td>0</td>\n",
       "      <td>1</td>\n",
       "      <td>0</td>\n",
       "      <td>0</td>\n",
       "    </tr>\n",
       "    <tr>\n",
       "      <th>4</th>\n",
       "      <td>32</td>\n",
       "      <td>28.880</td>\n",
       "      <td>0</td>\n",
       "      <td>3866.85520</td>\n",
       "      <td>0</td>\n",
       "      <td>1</td>\n",
       "      <td>1</td>\n",
       "      <td>0</td>\n",
       "      <td>0</td>\n",
       "      <td>1</td>\n",
       "      <td>0</td>\n",
       "      <td>0</td>\n",
       "    </tr>\n",
       "  </tbody>\n",
       "</table>\n",
       "</div>"
      ],
      "text/plain": [
       "   age     bmi  children      charges  sex_female  sex_male  smoker_no  \\\n",
       "0   19  27.900         0  16884.92400           1         0          0   \n",
       "1   18  33.770         1   1725.55230           0         1          1   \n",
       "2   28  33.000         3   4449.46200           0         1          1   \n",
       "3   33  22.705         0  21984.47061           0         1          1   \n",
       "4   32  28.880         0   3866.85520           0         1          1   \n",
       "\n",
       "   smoker_yes  region_northeast  region_northwest  region_southeast  \\\n",
       "0           1                 0                 0                 0   \n",
       "1           0                 0                 0                 1   \n",
       "2           0                 0                 0                 1   \n",
       "3           0                 0                 1                 0   \n",
       "4           0                 0                 1                 0   \n",
       "\n",
       "   region_southwest  \n",
       "0                 1  \n",
       "1                 0  \n",
       "2                 0  \n",
       "3                 0  \n",
       "4                 0  "
      ]
     },
     "execution_count": 8,
     "metadata": {},
     "output_type": "execute_result"
    }
   ],
   "source": [
    "df.head()"
   ]
  },
  {
   "cell_type": "code",
   "execution_count": 9,
   "id": "1d2a6bff",
   "metadata": {},
   "outputs": [],
   "source": [
    "y = df['charges']"
   ]
  },
  {
   "cell_type": "code",
   "execution_count": 127,
   "id": "e2373548",
   "metadata": {},
   "outputs": [],
   "source": [
    "X = df.drop(['charges'], axis=1)"
   ]
  },
  {
   "cell_type": "code",
   "execution_count": 11,
   "id": "0b9e0a6e",
   "metadata": {},
   "outputs": [],
   "source": [
    "X.iloc[:,:] = (X.iloc[:, : ] - np.mean(X.iloc[:, :], axis=0)) / np.std(X.iloc[:, :], axis=0)"
   ]
  },
  {
   "cell_type": "code",
   "execution_count": 12,
   "id": "785405fc",
   "metadata": {},
   "outputs": [
    {
     "name": "stdout",
     "output_type": "stream",
     "text": [
      "age -0.0\n",
      "1.0\n",
      "bmi 0.0\n",
      "1.0\n",
      "children 0.0\n",
      "1.0\n",
      "sex_female 0.0\n",
      "1.0\n",
      "sex_male -0.0\n",
      "1.0\n",
      "smoker_no -0.0\n",
      "1.0\n",
      "smoker_yes 0.0\n",
      "1.0\n",
      "region_northeast -0.0\n",
      "1.0\n",
      "region_northwest -0.0\n",
      "1.0\n",
      "region_southeast 0.0\n",
      "1.0\n",
      "region_southwest 0.0\n",
      "1.0\n"
     ]
    }
   ],
   "source": [
    "for col in X.columns:\n",
    "    if col != 'bias':\n",
    "        print(col, end=\" \")\n",
    "        print(round(np.mean(X[col]),3))\n",
    "        print(round(np.std(X[col]),3))"
   ]
  },
  {
   "cell_type": "code",
   "execution_count": 97,
   "id": "001301a6",
   "metadata": {},
   "outputs": [],
   "source": [
    "def predict(X, weights, b):\n",
    "    return X @ weights + b\n",
    "\n",
    "def MSE(weights, X, y,bias):\n",
    "    return 1/2 * np.mean(np.square(predict(X, weights , bias) - y)) \n",
    "\n",
    "# X_test = X.iloc[:3,:]\n",
    "# weight_test = np.ones(X.shape[1])\n",
    "# print(predict(X_test,weight_test,3))\n",
    "# print(y[:3])\n",
    "# print(MSE(weight_test,X_test,y[:3],2))\n",
    "\n"
   ]
  },
  {
   "cell_type": "code",
   "execution_count": 18,
   "id": "79d45020",
   "metadata": {},
   "outputs": [
    {
     "name": "stdout",
     "output_type": "stream",
     "text": [
      "(11,) (1338, 11)\n"
     ]
    }
   ],
   "source": [
    "weight_test = np.ones(X.shape[1])\n",
    "print(weight_test.shape,X.shape)"
   ]
  },
  {
   "cell_type": "code",
   "execution_count": 19,
   "id": "99d6a30a",
   "metadata": {},
   "outputs": [
    {
     "name": "stdout",
     "output_type": "stream",
     "text": [
      "4431.941968491272\n"
     ]
    }
   ],
   "source": [
    "print(np.sum(np.square(X @ weight_test)))"
   ]
  },
  {
   "cell_type": "code",
   "execution_count": 83,
   "id": "757bb8c2",
   "metadata": {},
   "outputs": [],
   "source": [
    "def Linear_Ridge_Regression(X,y,alpha = 0.0001,iteration=500,showloss=False, reg_param = 1e-6):  \n",
    "    m , n = X.shape\n",
    "    bias=1\n",
    "    weights = np.ones(X.shape[1])\n",
    "    losses = []\n",
    "    for i in range(iteration):\n",
    "        y_pred = predict(X,weights,bias)\n",
    "        delta_w = (-(2*(X.T).dot(y - y_pred)) + (2*reg_param*weights))/X.shape[0]\n",
    "        delta_b = -2*np.sum(y - y_pred)/X.shape[0]\n",
    "        weights -= alpha * delta_w\n",
    "        bias -= alpha * delta_b\n",
    "        if showloss == True:\n",
    "            if i % 100 == 10:\n",
    "                print(MSE(weights,X,y,bias),end = \"->\")\n",
    "        losses.append(MSE(weights, X, y,bias))\n",
    "    return X,weights,losses,bias"
   ]
  },
  {
   "cell_type": "code",
   "execution_count": 115,
   "id": "7b586059",
   "metadata": {},
   "outputs": [],
   "source": [
    "def Linear_Ridge_Regression_kfold(X,y,alpha = 0.0001,iteration=500,showloss=False, reg_param = 1e-6):  \n",
    "    weights_vector = []\n",
    "    bias_vector = []\n",
    "    train_losses = []\n",
    "    validation_losses = []\n",
    "    for j in range(10):\n",
    "        X_train , X_val ,y_train ,y_val = kFold(X,j)\n",
    "        X_train = X_train.to_numpy()\n",
    "        X_val = X_val.to_numpy()\n",
    "        y_train =  y_train.to_numpy()\n",
    "        y_val = y_val.to_numpy()\n",
    "        print(X_train.shape,X_val.shape,y_train.shape,y_val.shape)\n",
    "        bias=1\n",
    "        weights = np.ones(X_train.shape[1])\n",
    "        m , n = X_train.shape\n",
    "        for i in range(iteration):\n",
    "            y_pred = predict(X_train,weights,bias)\n",
    "            delta_w = (-(2*(X_train.T).dot(y_train - y_pred)) + (2*reg_param*weights))/X_train.shape[0]\n",
    "            delta_b = -2*np.sum(y_train - y_pred)/X_train.shape[0]\n",
    "            weights -= alpha * delta_w\n",
    "            bias -= alpha * delta_b\n",
    "            if showloss == True:\n",
    "                if i % 100 == 10:\n",
    "                    print(MSE(weights,X_train,y_train,bias),end = \"->\")\n",
    "        train_losses.append(MSE(weights,X_train,y_train,bias))\n",
    "        validation_losses.append(MSE(weights,X_val,y_val,bias))\n",
    "        weights_vector.append(weights)\n",
    "        bias_vector.append(bias)\n",
    "    return weights_vector,bias_vector,train_losses,validation_losses"
   ]
  },
  {
   "cell_type": "code",
   "execution_count": 123,
   "id": "f26dd4f3",
   "metadata": {},
   "outputs": [
    {
     "name": "stdout",
     "output_type": "stream",
     "text": [
      "(900, 12) (100, 12) (900,) (100,)\n",
      "3.607115086625236e+174->nan->nan->nan->nan->(900, 12) (100, 12) (900,) (100,)\n",
      "1.0576791064434302e+175->nan->nan->nan->nan->(900, 12) (100, 12) (900,) (100,)\n",
      "3.317100770661464e+174->nan->nan->nan->nan->(900, 12) (100, 12) (900,) (100,)\n",
      "6.946391827996662e+174->nan->nan->nan->nan->(900, 12) (100, 12) (900,) (100,)\n",
      "1.0836321541106471e+175->nan->nan->nan->nan->(900, 12) (100, 12) (900,) (100,)\n",
      "5.438084836074987e+174->nan->nan->nan->nan->(900, 12) (100, 12) (900,) (100,)\n",
      "4.484590363078796e+174->nan->nan->nan->nan->(900, 12) (100, 12) (900,) (100,)\n",
      "1.268811061803686e+175->nan->nan->nan->nan->(900, 12) (100, 12) (900,) (100,)\n",
      "5.4547099253167275e+174->nan->nan->nan->nan->(900, 11) (100, 11) (900,) (100,)\n",
      "18066165.14154781->17403870.735224705->17403870.735224705->17403870.735224705->"
     ]
    },
    {
     "name": "stderr",
     "output_type": "stream",
     "text": [
      "/tmp/ipykernel_11167/2417691032.py:18: RuntimeWarning: overflow encountered in multiply\n",
      "  delta_w = (-(2*(X_train.T).dot(y_train - y_pred)) + (2*reg_param*weights))/X_train.shape[0]\n",
      "/home/tauqeer/miniconda3/envs/NLP/lib/python3.8/site-packages/numpy/core/fromnumeric.py:86: RuntimeWarning: overflow encountered in reduce\n",
      "  return ufunc.reduce(obj, axis, dtype, out, **passkwargs)\n",
      "/tmp/ipykernel_11167/1920423811.py:2: RuntimeWarning: invalid value encountered in matmul\n",
      "  return X @ weights + b\n",
      "/tmp/ipykernel_11167/2417691032.py:18: RuntimeWarning: invalid value encountered in multiply\n",
      "  delta_w = (-(2*(X_train.T).dot(y_train - y_pred)) + (2*reg_param*weights))/X_train.shape[0]\n",
      "/tmp/ipykernel_11167/2417691032.py:19: RuntimeWarning: overflow encountered in double_scalars\n",
      "  delta_b = -2*np.sum(y_train - y_pred)/X_train.shape[0]\n"
     ]
    },
    {
     "name": "stdout",
     "output_type": "stream",
     "text": [
      "17403870.735224705->"
     ]
    }
   ],
   "source": [
    "X_train = X.iloc[:1000,:]\n",
    "y_train = y[:1000]\n",
    "weights_vector,bias_vector,train_losses,validation_losses = Linear_Ridge_Regression_kfold(X_train,y_train,alpha = 0.1,iteration=500,showloss=True, reg_param = 0)"
   ]
  },
  {
   "cell_type": "code",
   "execution_count": 125,
   "id": "558a6d0c",
   "metadata": {},
   "outputs": [
    {
     "name": "stdout",
     "output_type": "stream",
     "text": [
      "1000\n"
     ]
    }
   ],
   "source": [
    "X_train = X.iloc[:1000,:]\n",
    "y_train = y[:1000]\n",
    "X_test =  X.iloc[1001:,:]\n",
    "y_test = y[1001:]\n",
    "# print(np.sqrt(MSE(weights,X,y,bias)))\n",
    "print(X_train.shape[0])"
   ]
  },
  {
   "cell_type": "code",
   "execution_count": 126,
   "id": "4d6114f8",
   "metadata": {},
   "outputs": [
    {
     "ename": "ValueError",
     "evalue": "Dot product shape mismatch, (900, 12) vs (11,)",
     "output_type": "error",
     "traceback": [
      "\u001b[0;31m---------------------------------------------------------------------------\u001b[0m",
      "\u001b[0;31mValueError\u001b[0m                                Traceback (most recent call last)",
      "\u001b[0;32m/tmp/ipykernel_11167/2789590901.py\u001b[0m in \u001b[0;36m<module>\u001b[0;34m\u001b[0m\n\u001b[0;32m----> 1\u001b[0;31m \u001b[0mX_feature\u001b[0m\u001b[0;34m,\u001b[0m \u001b[0mweights\u001b[0m\u001b[0;34m,\u001b[0m \u001b[0mlosses\u001b[0m \u001b[0;34m,\u001b[0m\u001b[0mbias\u001b[0m\u001b[0;34m=\u001b[0m \u001b[0mLinear_Ridge_Regression\u001b[0m\u001b[0;34m(\u001b[0m\u001b[0mX_train\u001b[0m\u001b[0;34m,\u001b[0m\u001b[0my_train\u001b[0m\u001b[0;34m,\u001b[0m\u001b[0malpha\u001b[0m\u001b[0;34m=\u001b[0m\u001b[0;36m0.0001\u001b[0m\u001b[0;34m,\u001b[0m\u001b[0mreg_param\u001b[0m\u001b[0;34m=\u001b[0m\u001b[0;36m1e-2\u001b[0m\u001b[0;34m,\u001b[0m\u001b[0miteration\u001b[0m\u001b[0;34m=\u001b[0m\u001b[0;36m100000\u001b[0m\u001b[0;34m,\u001b[0m\u001b[0mshowloss\u001b[0m\u001b[0;34m=\u001b[0m\u001b[0;32mTrue\u001b[0m\u001b[0;34m)\u001b[0m\u001b[0;34m\u001b[0m\u001b[0;34m\u001b[0m\u001b[0m\n\u001b[0m\u001b[1;32m      2\u001b[0m \u001b[0mplt\u001b[0m\u001b[0;34m.\u001b[0m\u001b[0mplot\u001b[0m\u001b[0;34m(\u001b[0m\u001b[0;34m[\u001b[0m\u001b[0mi\u001b[0m \u001b[0;32mfor\u001b[0m \u001b[0mi\u001b[0m \u001b[0;32min\u001b[0m \u001b[0mrange\u001b[0m\u001b[0;34m(\u001b[0m\u001b[0;36m1\u001b[0m\u001b[0;34m,\u001b[0m\u001b[0;36m100001\u001b[0m\u001b[0;34m)\u001b[0m\u001b[0;34m]\u001b[0m\u001b[0;34m,\u001b[0m \u001b[0mlosses\u001b[0m\u001b[0;34m)\u001b[0m\u001b[0;34m\u001b[0m\u001b[0;34m\u001b[0m\u001b[0m\n\u001b[1;32m      3\u001b[0m \u001b[0mprint\u001b[0m\u001b[0;34m(\u001b[0m\u001b[0;34m)\u001b[0m\u001b[0;34m\u001b[0m\u001b[0;34m\u001b[0m\u001b[0m\n\u001b[1;32m      4\u001b[0m \u001b[0mprint\u001b[0m\u001b[0;34m(\u001b[0m\u001b[0mweights\u001b[0m\u001b[0;34m)\u001b[0m\u001b[0;34m\u001b[0m\u001b[0;34m\u001b[0m\u001b[0m\n",
      "\u001b[0;32m/tmp/ipykernel_11167/3107849983.py\u001b[0m in \u001b[0;36mLinear_Ridge_Regression\u001b[0;34m(X, y, alpha, iteration, showloss, reg_param)\u001b[0m\n\u001b[1;32m     12\u001b[0m         \u001b[0mm\u001b[0m \u001b[0;34m,\u001b[0m \u001b[0mn\u001b[0m \u001b[0;34m=\u001b[0m \u001b[0mX_train\u001b[0m\u001b[0;34m.\u001b[0m\u001b[0mshape\u001b[0m\u001b[0;34m\u001b[0m\u001b[0;34m\u001b[0m\u001b[0m\n\u001b[1;32m     13\u001b[0m         \u001b[0;32mfor\u001b[0m \u001b[0mi\u001b[0m \u001b[0;32min\u001b[0m \u001b[0mrange\u001b[0m\u001b[0;34m(\u001b[0m\u001b[0miteration\u001b[0m\u001b[0;34m)\u001b[0m\u001b[0;34m:\u001b[0m\u001b[0;34m\u001b[0m\u001b[0;34m\u001b[0m\u001b[0m\n\u001b[0;32m---> 14\u001b[0;31m             \u001b[0my_pred\u001b[0m \u001b[0;34m=\u001b[0m \u001b[0mpredict\u001b[0m\u001b[0;34m(\u001b[0m\u001b[0mX_train\u001b[0m\u001b[0;34m,\u001b[0m\u001b[0mweights\u001b[0m\u001b[0;34m,\u001b[0m\u001b[0mbias\u001b[0m\u001b[0;34m)\u001b[0m\u001b[0;34m\u001b[0m\u001b[0;34m\u001b[0m\u001b[0m\n\u001b[0m\u001b[1;32m     15\u001b[0m             \u001b[0mdelta_w\u001b[0m \u001b[0;34m=\u001b[0m \u001b[0;34m(\u001b[0m\u001b[0;34m-\u001b[0m\u001b[0;34m(\u001b[0m\u001b[0;36m2\u001b[0m\u001b[0;34m*\u001b[0m\u001b[0;34m(\u001b[0m\u001b[0mX_train\u001b[0m\u001b[0;34m.\u001b[0m\u001b[0mT\u001b[0m\u001b[0;34m)\u001b[0m\u001b[0;34m.\u001b[0m\u001b[0mdot\u001b[0m\u001b[0;34m(\u001b[0m\u001b[0my_train\u001b[0m \u001b[0;34m-\u001b[0m \u001b[0my_pred\u001b[0m\u001b[0;34m)\u001b[0m\u001b[0;34m)\u001b[0m \u001b[0;34m+\u001b[0m \u001b[0;34m(\u001b[0m\u001b[0;36m2\u001b[0m\u001b[0;34m*\u001b[0m\u001b[0mreg_param\u001b[0m\u001b[0;34m*\u001b[0m\u001b[0mweights\u001b[0m\u001b[0;34m)\u001b[0m\u001b[0;34m)\u001b[0m\u001b[0;34m/\u001b[0m\u001b[0mX_train\u001b[0m\u001b[0;34m.\u001b[0m\u001b[0mshape\u001b[0m\u001b[0;34m[\u001b[0m\u001b[0;36m0\u001b[0m\u001b[0;34m]\u001b[0m\u001b[0;34m\u001b[0m\u001b[0;34m\u001b[0m\u001b[0m\n\u001b[1;32m     16\u001b[0m             \u001b[0mdelta_b\u001b[0m \u001b[0;34m=\u001b[0m \u001b[0;34m-\u001b[0m\u001b[0;36m2\u001b[0m\u001b[0;34m*\u001b[0m\u001b[0mnp\u001b[0m\u001b[0;34m.\u001b[0m\u001b[0msum\u001b[0m\u001b[0;34m(\u001b[0m\u001b[0my_train\u001b[0m \u001b[0;34m-\u001b[0m \u001b[0my_pred\u001b[0m\u001b[0;34m)\u001b[0m\u001b[0;34m/\u001b[0m\u001b[0mX_train\u001b[0m\u001b[0;34m.\u001b[0m\u001b[0mshape\u001b[0m\u001b[0;34m[\u001b[0m\u001b[0;36m0\u001b[0m\u001b[0;34m]\u001b[0m\u001b[0;34m\u001b[0m\u001b[0;34m\u001b[0m\u001b[0m\n",
      "\u001b[0;32m/tmp/ipykernel_11167/1920423811.py\u001b[0m in \u001b[0;36mpredict\u001b[0;34m(X, weights, b)\u001b[0m\n\u001b[1;32m      1\u001b[0m \u001b[0;32mdef\u001b[0m \u001b[0mpredict\u001b[0m\u001b[0;34m(\u001b[0m\u001b[0mX\u001b[0m\u001b[0;34m,\u001b[0m \u001b[0mweights\u001b[0m\u001b[0;34m,\u001b[0m \u001b[0mb\u001b[0m\u001b[0;34m)\u001b[0m\u001b[0;34m:\u001b[0m\u001b[0;34m\u001b[0m\u001b[0;34m\u001b[0m\u001b[0m\n\u001b[0;32m----> 2\u001b[0;31m     \u001b[0;32mreturn\u001b[0m \u001b[0mX\u001b[0m \u001b[0;34m@\u001b[0m \u001b[0mweights\u001b[0m \u001b[0;34m+\u001b[0m \u001b[0mb\u001b[0m\u001b[0;34m\u001b[0m\u001b[0;34m\u001b[0m\u001b[0m\n\u001b[0m\u001b[1;32m      3\u001b[0m \u001b[0;34m\u001b[0m\u001b[0m\n\u001b[1;32m      4\u001b[0m \u001b[0;32mdef\u001b[0m \u001b[0mMSE\u001b[0m\u001b[0;34m(\u001b[0m\u001b[0mweights\u001b[0m\u001b[0;34m,\u001b[0m \u001b[0mX\u001b[0m\u001b[0;34m,\u001b[0m \u001b[0my\u001b[0m\u001b[0;34m,\u001b[0m\u001b[0mbias\u001b[0m\u001b[0;34m)\u001b[0m\u001b[0;34m:\u001b[0m\u001b[0;34m\u001b[0m\u001b[0;34m\u001b[0m\u001b[0m\n\u001b[1;32m      5\u001b[0m     \u001b[0;32mreturn\u001b[0m \u001b[0;36m1\u001b[0m\u001b[0;34m/\u001b[0m\u001b[0;36m2\u001b[0m \u001b[0;34m*\u001b[0m \u001b[0mnp\u001b[0m\u001b[0;34m.\u001b[0m\u001b[0mmean\u001b[0m\u001b[0;34m(\u001b[0m\u001b[0mnp\u001b[0m\u001b[0;34m.\u001b[0m\u001b[0msquare\u001b[0m\u001b[0;34m(\u001b[0m\u001b[0mpredict\u001b[0m\u001b[0;34m(\u001b[0m\u001b[0mX\u001b[0m\u001b[0;34m,\u001b[0m \u001b[0mweights\u001b[0m \u001b[0;34m,\u001b[0m \u001b[0mbias\u001b[0m\u001b[0;34m)\u001b[0m \u001b[0;34m-\u001b[0m \u001b[0my\u001b[0m\u001b[0;34m)\u001b[0m\u001b[0;34m)\u001b[0m\u001b[0;34m\u001b[0m\u001b[0;34m\u001b[0m\u001b[0m\n",
      "\u001b[0;32m~/miniconda3/envs/NLP/lib/python3.8/site-packages/pandas/core/frame.py\u001b[0m in \u001b[0;36m__matmul__\u001b[0;34m(self, other)\u001b[0m\n\u001b[1;32m   1490\u001b[0m         \u001b[0mMatrix\u001b[0m \u001b[0mmultiplication\u001b[0m \u001b[0musing\u001b[0m \u001b[0mbinary\u001b[0m\u001b[0;31m \u001b[0m\u001b[0;31m`\u001b[0m\u001b[0;34m@\u001b[0m\u001b[0;31m`\u001b[0m \u001b[0moperator\u001b[0m \u001b[0;32min\u001b[0m \u001b[0mPython\u001b[0m\u001b[0;34m>=\u001b[0m\u001b[0;36m3.5\u001b[0m\u001b[0;34m.\u001b[0m\u001b[0;34m\u001b[0m\u001b[0;34m\u001b[0m\u001b[0m\n\u001b[1;32m   1491\u001b[0m         \"\"\"\n\u001b[0;32m-> 1492\u001b[0;31m         \u001b[0;32mreturn\u001b[0m \u001b[0mself\u001b[0m\u001b[0;34m.\u001b[0m\u001b[0mdot\u001b[0m\u001b[0;34m(\u001b[0m\u001b[0mother\u001b[0m\u001b[0;34m)\u001b[0m\u001b[0;34m\u001b[0m\u001b[0;34m\u001b[0m\u001b[0m\n\u001b[0m\u001b[1;32m   1493\u001b[0m \u001b[0;34m\u001b[0m\u001b[0m\n\u001b[1;32m   1494\u001b[0m     \u001b[0;32mdef\u001b[0m \u001b[0m__rmatmul__\u001b[0m\u001b[0;34m(\u001b[0m\u001b[0mself\u001b[0m\u001b[0;34m,\u001b[0m \u001b[0mother\u001b[0m\u001b[0;34m)\u001b[0m\u001b[0;34m:\u001b[0m\u001b[0;34m\u001b[0m\u001b[0;34m\u001b[0m\u001b[0m\n",
      "\u001b[0;32m~/miniconda3/envs/NLP/lib/python3.8/site-packages/pandas/core/frame.py\u001b[0m in \u001b[0;36mdot\u001b[0;34m(self, other)\u001b[0m\n\u001b[1;32m   1455\u001b[0m             \u001b[0mrvals\u001b[0m \u001b[0;34m=\u001b[0m \u001b[0mnp\u001b[0m\u001b[0;34m.\u001b[0m\u001b[0masarray\u001b[0m\u001b[0;34m(\u001b[0m\u001b[0mother\u001b[0m\u001b[0;34m)\u001b[0m\u001b[0;34m\u001b[0m\u001b[0;34m\u001b[0m\u001b[0m\n\u001b[1;32m   1456\u001b[0m             \u001b[0;32mif\u001b[0m \u001b[0mlvals\u001b[0m\u001b[0;34m.\u001b[0m\u001b[0mshape\u001b[0m\u001b[0;34m[\u001b[0m\u001b[0;36m1\u001b[0m\u001b[0;34m]\u001b[0m \u001b[0;34m!=\u001b[0m \u001b[0mrvals\u001b[0m\u001b[0;34m.\u001b[0m\u001b[0mshape\u001b[0m\u001b[0;34m[\u001b[0m\u001b[0;36m0\u001b[0m\u001b[0;34m]\u001b[0m\u001b[0;34m:\u001b[0m\u001b[0;34m\u001b[0m\u001b[0;34m\u001b[0m\u001b[0m\n\u001b[0;32m-> 1457\u001b[0;31m                 raise ValueError(\n\u001b[0m\u001b[1;32m   1458\u001b[0m                     \u001b[0;34mf\"Dot product shape mismatch, {lvals.shape} vs {rvals.shape}\"\u001b[0m\u001b[0;34m\u001b[0m\u001b[0;34m\u001b[0m\u001b[0m\n\u001b[1;32m   1459\u001b[0m                 )\n",
      "\u001b[0;31mValueError\u001b[0m: Dot product shape mismatch, (900, 12) vs (11,)"
     ]
    }
   ],
   "source": [
    "X_feature, weights, losses ,bias= Linear_Ridge_Regression(X_train,y_train,alpha=0.0001,reg_param=1e-2,iteration=100000,showloss=True)\n",
    "plt.plot([i for i in range(1,100001)], losses)\n",
    "print()\n",
    "print(weights)"
   ]
  },
  {
   "cell_type": "code",
   "execution_count": 43,
   "id": "0c61909b",
   "metadata": {},
   "outputs": [
    {
     "data": {
      "text/plain": [
       "[<matplotlib.lines.Line2D at 0x7fddac355c10>]"
      ]
     },
     "execution_count": 43,
     "metadata": {},
     "output_type": "execute_result"
    },
    {
     "data": {
      "image/png": "[encoded data removed]",
      "text/plain": [
       "<Figure size 432x288 with 1 Axes>"
      ]
     },
     "metadata": {
      "needs_background": "light"
     },
     "output_type": "display_data"
    }
   ],
   "source": [
    "y_pred = predict(X_test,weights,bias)\n",
    "plt.scatter([i for i in range(len(y_test))],y_pred)\n",
    "plt.plot([i for i in range(len(y_test))],y_test,'x')"
   ]
  },
  {
   "cell_type": "code",
   "execution_count": 51,
   "id": "5d0c914d",
   "metadata": {},
   "outputs": [
    {
     "data": {
      "text/plain": [
       "[<matplotlib.lines.Line2D at 0x7fddacd42550>]"
      ]
     },
     "execution_count": 51,
     "metadata": {},
     "output_type": "execute_result"
    },
    {
     "data": {
      "image/png": "[encoded data removed]",
      "text/plain": [
       "<Figure size 1440x360 with 1 Axes>"
      ]
     },
     "metadata": {
      "needs_background": "light"
     },
     "output_type": "display_data"
    }
   ],
   "source": [
    "y_pred = predict(X_test,weights,bias)\n",
    "fig = plt.figure(figsize=(20, 5))\n",
    "plt.scatter([i for i in range(50,70)],y_pred[50:70])\n",
    "plt.plot([i for i in range(50,70)],y_test[50:70],'x')"
   ]
  },
  {
   "cell_type": "code",
   "execution_count": 112,
   "id": "a2f89a3b",
   "metadata": {},
   "outputs": [],
   "source": [
    "def kFold(X, i):\n",
    "    i =  i % 10\n",
    "    if i == 0:\n",
    "        X_train = X.iloc[100:1000,:]\n",
    "        X_val = X.iloc[0:100,:]\n",
    "        y_train = y[100:1000]\n",
    "        y_val = y[0:100]\n",
    "    if i == 9:\n",
    "        X_train = X.iloc[0:900,:]\n",
    "        X_val = X.iloc[900:1000,:]\n",
    "        y_train = y[0:900]\n",
    "        y_val = y[900:1000]\n",
    "    else:\n",
    "        X_train = pd.concat([df.iloc[0:i*100,:] ,df.iloc[(i+1)*100:1000,:]] ) \n",
    "        X_val = df.iloc[i*100:(i+1)*100, :]\n",
    "        y_train = pd.concat([y[0:i*100] ,y[(i+1)*100:1000] ])\n",
    "        y_val = y[i*100:(i+1)*100]\n",
    "    return X_train , X_val ,y_train ,y_val\n",
    "    "
   ]
  },
  {
   "cell_type": "code",
   "execution_count": 105,
   "id": "9985a174",
   "metadata": {},
   "outputs": [],
   "source": [
    "X_train , X_val ,y_train ,y_val = kFold(X.iloc[0:1000,:].to_numpy, 3)"
   ]
  },
  {
   "cell_type": "code",
   "execution_count": 106,
   "id": "7711efb1",
   "metadata": {},
   "outputs": [
    {
     "data": {
      "text/plain": [
       "(100,)"
      ]
     },
     "execution_count": 106,
     "metadata": {},
     "output_type": "execute_result"
    }
   ],
   "source": [
    "y_val.shape"
   ]
  },
  {
   "cell_type": "code",
   "execution_count": null,
   "id": "efbde672",
   "metadata": {},
   "outputs": [],
   "source": []
  },
  {
   "cell_type": "code",
   "execution_count": 23,
   "id": "139132d6",
   "metadata": {},
   "outputs": [
    {
     "ename": "NameError",
     "evalue": "name 'search' is not defined",
     "output_type": "error",
     "traceback": [
      "\u001b[0;31m---------------------------------------------------------------------------\u001b[0m",
      "\u001b[0;31mNameError\u001b[0m                                 Traceback (most recent call last)",
      "\u001b[0;32m/tmp/ipykernel_11167/3397121642.py\u001b[0m in \u001b[0;36m<module>\u001b[0;34m\u001b[0m\n\u001b[0;32m----> 1\u001b[0;31m \u001b[0mprint\u001b[0m\u001b[0;34m(\u001b[0m\u001b[0msearch\u001b[0m\u001b[0;34m.\u001b[0m\u001b[0mget_params\u001b[0m\u001b[0;34m)\u001b[0m\u001b[0;34m\u001b[0m\u001b[0;34m\u001b[0m\u001b[0m\n\u001b[0m",
      "\u001b[0;31mNameError\u001b[0m: name 'search' is not defined"
     ]
    }
   ],
   "source": [
    "print(search.get_params)"
   ]
  }
 ],
 "metadata": {
  "kernelspec": {
   "display_name": "Python 3 (ipykernel)",
   "language": "python",
   "name": "python3"
  },
  "language_info": {
   "codemirror_mode": {
    "name": "ipython",
    "version": 3
   },
   "file_extension": ".py",
   "mimetype": "text/x-python",
   "name": "python",
   "nbconvert_exporter": "python",
   "pygments_lexer": "ipython3",
   "version": "3.8.5"
  }
 },
 "nbformat": 4,
 "nbformat_minor": 5
}
